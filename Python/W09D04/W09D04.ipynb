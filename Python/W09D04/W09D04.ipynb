{
 "cells": [
  {
   "cell_type": "code",
   "execution_count": null,
   "metadata": {},
   "outputs": [],
   "source": [
    "Debugging means not only finding but correcting the error too.\n",
    "pdb is python debugger used to aid(helping) in debugging not for doing debugging."
   ]
  },
  {
   "cell_type": "code",
   "execution_count": null,
   "metadata": {},
   "outputs": [],
   "source": [
    "JSON: JAVASCRIPT OBJECT NOTATION\n",
    "    \n",
    "LIGHT WEIGHT FILE USED FOR DATAINTERCHANGE FORMAT"
   ]
  },
  {
   "cell_type": "code",
   "execution_count": null,
   "metadata": {},
   "outputs": [],
   "source": [
    "{KEY:VALUE} AND HERE:-\n",
    "    \n",
    "VALUES can be:- \n",
    "    String\n",
    "    number\n",
    "    another JSON object\n",
    "    array(list)\n",
    "    bool\n",
    "    null(None)"
   ]
  },
  {
   "cell_type": "code",
   "execution_count": null,
   "metadata": {},
   "outputs": [],
   "source": [
    "# Generally Nested Structures of list and dictionaries"
   ]
  },
  {
   "cell_type": "code",
   "execution_count": 6,
   "metadata": {},
   "outputs": [],
   "source": [
    "fp = open('example.json','r')"
   ]
  },
  {
   "cell_type": "code",
   "execution_count": 7,
   "metadata": {},
   "outputs": [],
   "source": [
    "content = fp.read()"
   ]
  },
  {
   "cell_type": "code",
   "execution_count": 8,
   "metadata": {},
   "outputs": [
    {
     "data": {
      "text/plain": [
       "str"
      ]
     },
     "execution_count": 8,
     "metadata": {},
     "output_type": "execute_result"
    }
   ],
   "source": [
    "type(content)"
   ]
  },
  {
   "cell_type": "code",
   "execution_count": 9,
   "metadata": {},
   "outputs": [
    {
     "data": {
      "text/plain": [
       "'{\"quiz\": {\\n\\t\\t\"sport\": {\\n\\t\\t\\t\"q1\": {\\n\\t\\t\\t\\t\"question\": \"Which one is correct team name in NBA?\",\\n\\t\\t\\t\\t\"options\": [\\n\\t\\t\\t\\t\\t\"New York Bulls\",\\n\\t\\t\\t\\t\\t\"Los Angeles Kings\",\\n\\t\\t\\t\\t\\t\"Golden State Warriros\",\\n\\t\\t\\t\\t\\t\"Huston Rocket\"\\n\\t\\t\\t\\t],\\n\\t\\t\\t\\t\"answer\": \"Huston Rocket\"\\n\\t\\t\\t}\\n\\t\\t},\\n\\t\\t\"maths\": {\\n\\t\\t\\t\"q1\": {\\n\\t\\t\\t\\t\"question\": \"5 + 7 = ?\",\\n\\t\\t\\t\\t\"options\": [\\n\\t\\t\\t\\t\\t\"10\",\\n\\t\\t\\t\\t\\t\"11\",\\n\\t\\t\\t\\t\\t\"12\",\\n\\t\\t\\t\\t\\t\"13\"\\n\\t\\t\\t\\t],\\n\\t\\t\\t\\t\"answer\": \"12\"\\n\\t\\t\\t},\\n\\t\\t\\t\"q2\": {\\n\\t\\t\\t\\t\"question\": \"12 - 8 = ?\",\\n\\t\\t\\t\\t\"options\": [\\n\\t\\t\\t\\t\\t\"1\",\\n\\t\\t\\t\\t\\t\"2\",\\n\\t\\t\\t\\t\\t\"3\",\\n\\t\\t\\t\\t\\t\"4\"\\n\\t\\t\\t\\t],\\n\\t\\t\\t\\t\"answer\": \"4\"\\n\\t\\t\\t}\\n\\t\\t}\\n\\t}\\n}'"
      ]
     },
     "execution_count": 9,
     "metadata": {},
     "output_type": "execute_result"
    }
   ],
   "source": [
    "content"
   ]
  },
  {
   "cell_type": "code",
   "execution_count": 10,
   "metadata": {},
   "outputs": [],
   "source": [
    "# above content is not pretty and is a string."
   ]
  },
  {
   "cell_type": "code",
   "execution_count": null,
   "metadata": {},
   "outputs": [],
   "source": [
    "# pretty is the correct word here.\n",
    "# Prettify json"
   ]
  },
  {
   "cell_type": "code",
   "execution_count": 11,
   "metadata": {},
   "outputs": [],
   "source": [
    "import json"
   ]
  },
  {
   "cell_type": "code",
   "execution_count": 12,
   "metadata": {},
   "outputs": [],
   "source": [
    "content_in_json_format = json.loads(content)"
   ]
  },
  {
   "cell_type": "code",
   "execution_count": 20,
   "metadata": {},
   "outputs": [],
   "source": [
    "# content_in_json_format"
   ]
  },
  {
   "cell_type": "code",
   "execution_count": 14,
   "metadata": {},
   "outputs": [
    {
     "data": {
      "text/plain": [
       "dict"
      ]
     },
     "execution_count": 14,
     "metadata": {},
     "output_type": "execute_result"
    }
   ],
   "source": [
    "type(content_in_json_format)"
   ]
  },
  {
   "cell_type": "code",
   "execution_count": 15,
   "metadata": {},
   "outputs": [
    {
     "data": {
      "text/plain": [
       "dict_keys(['quiz'])"
      ]
     },
     "execution_count": 15,
     "metadata": {},
     "output_type": "execute_result"
    }
   ],
   "source": [
    "content_in_json_format.keys()"
   ]
  },
  {
   "cell_type": "code",
   "execution_count": 16,
   "metadata": {},
   "outputs": [
    {
     "data": {
      "text/plain": [
       "{'sport': {'q1': {'question': 'Which one is correct team name in NBA?',\n",
       "   'options': ['New York Bulls',\n",
       "    'Los Angeles Kings',\n",
       "    'Golden State Warriros',\n",
       "    'Huston Rocket'],\n",
       "   'answer': 'Huston Rocket'}},\n",
       " 'maths': {'q1': {'question': '5 + 7 = ?',\n",
       "   'options': ['10', '11', '12', '13'],\n",
       "   'answer': '12'},\n",
       "  'q2': {'question': '12 - 8 = ?',\n",
       "   'options': ['1', '2', '3', '4'],\n",
       "   'answer': '4'}}}"
      ]
     },
     "execution_count": 16,
     "metadata": {},
     "output_type": "execute_result"
    }
   ],
   "source": [
    "content_in_json_format['quiz']"
   ]
  },
  {
   "cell_type": "code",
   "execution_count": 17,
   "metadata": {},
   "outputs": [
    {
     "data": {
      "text/plain": [
       "dict_keys(['sport', 'maths'])"
      ]
     },
     "execution_count": 17,
     "metadata": {},
     "output_type": "execute_result"
    }
   ],
   "source": [
    "content_in_json_format['quiz'].keys()"
   ]
  },
  {
   "cell_type": "code",
   "execution_count": 18,
   "metadata": {},
   "outputs": [
    {
     "data": {
      "text/plain": [
       "'Which one is correct team name in NBA?'"
      ]
     },
     "execution_count": 18,
     "metadata": {},
     "output_type": "execute_result"
    }
   ],
   "source": [
    "content_in_json_format['quiz']['sport']['q1']['question']"
   ]
  },
  {
   "cell_type": "code",
   "execution_count": 19,
   "metadata": {},
   "outputs": [
    {
     "data": {
      "text/plain": [
       "['New York Bulls',\n",
       " 'Los Angeles Kings',\n",
       " 'Golden State Warriros',\n",
       " 'Huston Rocket']"
      ]
     },
     "execution_count": 19,
     "metadata": {},
     "output_type": "execute_result"
    }
   ],
   "source": [
    "content_in_json_format['quiz']['sport']['q1']['options']"
   ]
  },
  {
   "cell_type": "code",
   "execution_count": null,
   "metadata": {},
   "outputs": [],
   "source": [
    "## Exercise:\n",
    "\n",
    "first Task:Write the Quiz Questions with numbers like 1,2,3 and the options with labels like a,b,c,d\n",
    "\n",
    "second Task: and then in the end print the answers for the quesions corresponding to to quesiton no.\n",
    "    \n",
    "Output should look something like this\n",
    "\n",
    "1. Which one is correct team name in NBA?\n",
    "a)New York Bulls\n",
    "b)Los Angeles Kings\n",
    "c)Golden State Warriros\n",
    "d)Huston Rocket\n",
    "\n",
    "The code should be generic which means even if I add more questions to existing quizes or add more\n",
    "quizes, it should work."
   ]
  },
  {
   "cell_type": "code",
   "execution_count": 39,
   "metadata": {},
   "outputs": [],
   "source": [
    "import json\n",
    "fp = open('example.json','r')\n",
    "content = fp.read()\n",
    "data = json.loads(content)\n",
    "quiz_data = data['quiz']"
   ]
  },
  {
   "cell_type": "code",
   "execution_count": 40,
   "metadata": {},
   "outputs": [
    {
     "name": "stdout",
     "output_type": "stream",
     "text": [
      "sport\n",
      "=====================\n",
      "1) Which one is correct team name in NBA?\n",
      "a) New York Bulls\n",
      "b) Los Angeles Kings\n",
      "c) Golden State Warriros\n",
      "d) Huston Rocket\n",
      "--------------------------------\n",
      "2)  Which is National Sports of India?\n",
      "a) Cricket\n",
      "b) Hockey\n",
      "c) Badminton\n",
      "d) Ice Hockey\n",
      "--------------------------------\n",
      "\n",
      "\n",
      "maths\n",
      "=====================\n",
      "1) 5 + 7 = ?\n",
      "a) 10\n",
      "b) 11\n",
      "c) 12\n",
      "d) 13\n",
      "--------------------------------\n",
      "2) 12 - 8 = ?\n",
      "a) 1\n",
      "b) 2\n",
      "c) 3\n",
      "d) 4\n",
      "--------------------------------\n",
      "\n",
      "\n",
      "Python\n",
      "=====================\n",
      "1) Is it legal to do a,b = b,a in Python, if yes than what is it?\n",
      "a) Not Allowed\n",
      "b) Yes, Tuple Unpacking (Also Nos are getting swapping)\n",
      "c) Yes Rational Rendering\n",
      "--------------------------------\n",
      "\n",
      "\n"
     ]
    }
   ],
   "source": [
    "# JSON PARSING\n",
    "\n",
    "for type_of_subject in quiz_data.keys():\n",
    "    print(type_of_subject)\n",
    "    print('=====================')\n",
    "    question_counter = 1\n",
    "    for question_data in quiz_data[type_of_subject]:\n",
    "        print(str(question_counter)+')',quiz_data[type_of_subject][question_data]['question'])\n",
    "        question_counter+=1\n",
    "        option_counter = 97\n",
    "        for option in quiz_data[type_of_subject][question_data]['options']:\n",
    "            print(chr(option_counter)+')',option)\n",
    "            option_counter+=1\n",
    "        print('--------------------------------')\n",
    "    print('\\n')"
   ]
  },
  {
   "cell_type": "code",
   "execution_count": 42,
   "metadata": {},
   "outputs": [],
   "source": [
    "dict1 = {'python':3,'java':8}\n",
    "dump_data = json.dumps(dict1)\n",
    "fp = open('next_example.json','w+')\n",
    "fp.write(dump_data)\n",
    "fp.close()"
   ]
  },
  {
   "cell_type": "code",
   "execution_count": null,
   "metadata": {},
   "outputs": [],
   "source": [
    "XML Files: (Extensible Markup Language)\n",
    "    USED for Sending and Receiving Data\n",
    "    They look html, but they don't have predefined tags like div,a,etc\n",
    "    You make your own tags. You make tags to specify what kind of data you are sending."
   ]
  },
  {
   "cell_type": "code",
   "execution_count": null,
   "metadata": {},
   "outputs": [],
   "source": [
    "JSON => {'PYTHON':3,'JAVA':8,'NUMPY':2}\n",
    "\n",
    "XML SIMILAR TO THIS WOULD BE:\n",
    "    \n",
    "<module_data>\n",
    "<PYTHON>3</PYTHON>\n",
    "<JAVA>8</JAVA>\n",
    "<NUMPY>2</NUMPY>\n",
    "</module_data>"
   ]
  },
  {
   "cell_type": "code",
   "execution_count": null,
   "metadata": {},
   "outputs": [],
   "source": [
    "# Rules:\n",
    "1) Opening and Closing Tags should be same\n",
    "2) Root tag\n",
    "3) case sensitive"
   ]
  },
  {
   "cell_type": "code",
   "execution_count": 44,
   "metadata": {},
   "outputs": [
    {
     "name": "stdout",
     "output_type": "stream",
     "text": [
      "Requirement already satisfied: beautifulsoup4 in c:\\users\\mohit\\appdata\\local\\programs\\python\\python38-32\\lib\\site-packages (4.9.1)\n",
      "Requirement already satisfied: soupsieve>1.2 in c:\\users\\mohit\\appdata\\local\\programs\\python\\python38-32\\lib\\site-packages (from beautifulsoup4) (2.0.1)\n",
      "Note: you may need to restart the kernel to use updated packages.\n"
     ]
    },
    {
     "name": "stderr",
     "output_type": "stream",
     "text": [
      "WARNING: You are using pip version 19.2.3, however version 21.1.2 is available.\n",
      "You should consider upgrading via the 'python -m pip install --upgrade pip' command.\n"
     ]
    }
   ],
   "source": [
    "# beautifulsoup is a package which contains parsers for html, xml and similar files.\n",
    "# In simple language , if we wish to read and play around html, or xml files we can use this\n",
    "# third party library\n",
    "pip install beautifulsoup4"
   ]
  },
  {
   "cell_type": "code",
   "execution_count": 46,
   "metadata": {},
   "outputs": [],
   "source": [
    "from bs4 import BeautifulSoup\n",
    "with open('test_file.xml','r') as fp:\n",
    "    soup = BeautifulSoup(fp,'html.parser')"
   ]
  },
  {
   "cell_type": "code",
   "execution_count": 47,
   "metadata": {},
   "outputs": [
    {
     "data": {
      "text/plain": [
       "<breakfast_menu>\n",
       "<food>\n",
       "<name>Belgian Waffles</name>\n",
       "<price>$5.95</price>\n",
       "<description>Two of our famous Belgian Waffles with plenty of real maple syrup</description>\n",
       "<calories>650</calories>\n",
       "</food>\n",
       "<food>\n",
       "<name>Strawberry Belgian Waffles</name>\n",
       "<price>$7.95</price>\n",
       "<description>Light Belgian waffles covered with strawberries and whipped cream</description>\n",
       "<calories>900</calories>\n",
       "</food>\n",
       "<food>\n",
       "<name>Berry-Berry Belgian Waffles</name>\n",
       "<price>$8.95</price>\n",
       "<description>Light Belgian waffles covered with an assortment of fresh berries and whipped cream</description>\n",
       "<calories>900</calories>\n",
       "</food>\n",
       "<food>\n",
       "<name>French Toast</name>\n",
       "<price>$4.50</price>\n",
       "<description>Thick slices made from our homemade sourdough bread</description>\n",
       "<calories>600</calories>\n",
       "</food>\n",
       "<food>\n",
       "<name>Homestyle Breakfast</name>\n",
       "<price>$6.95</price>\n",
       "<description>Two eggs, bacon or sausage, toast, and our ever-popular hash browns</description>\n",
       "<calories>950</calories>\n",
       "</food>\n",
       "</breakfast_menu>"
      ]
     },
     "execution_count": 47,
     "metadata": {},
     "output_type": "execute_result"
    }
   ],
   "source": [
    "soup"
   ]
  },
  {
   "cell_type": "code",
   "execution_count": 48,
   "metadata": {},
   "outputs": [
    {
     "data": {
      "text/plain": [
       "bs4.BeautifulSoup"
      ]
     },
     "execution_count": 48,
     "metadata": {},
     "output_type": "execute_result"
    }
   ],
   "source": [
    "type(soup)"
   ]
  },
  {
   "cell_type": "code",
   "execution_count": 49,
   "metadata": {},
   "outputs": [],
   "source": [
    "food_list = soup.find_all(\"food\")"
   ]
  },
  {
   "cell_type": "code",
   "execution_count": 51,
   "metadata": {},
   "outputs": [
    {
     "data": {
      "text/plain": [
       "<food>\n",
       "<name>Belgian Waffles</name>\n",
       "<price>$5.95</price>\n",
       "<description>Two of our famous Belgian Waffles with plenty of real maple syrup</description>\n",
       "<calories>650</calories>\n",
       "</food>"
      ]
     },
     "execution_count": 51,
     "metadata": {},
     "output_type": "execute_result"
    }
   ],
   "source": [
    "food_list[0]"
   ]
  },
  {
   "cell_type": "code",
   "execution_count": 60,
   "metadata": {},
   "outputs": [
    {
     "data": {
      "text/plain": [
       "<food>\n",
       "<name>Strawberry Belgian Waffles</name>\n",
       "<price>$7.95</price>\n",
       "<description>Light Belgian waffles covered with strawberries and whipped cream</description>\n",
       "<calories>900</calories>\n",
       "</food>"
      ]
     },
     "execution_count": 60,
     "metadata": {},
     "output_type": "execute_result"
    }
   ],
   "source": [
    "food_list[1]"
   ]
  },
  {
   "cell_type": "code",
   "execution_count": 53,
   "metadata": {},
   "outputs": [
    {
     "data": {
      "text/plain": [
       "<food>\n",
       "<name>Berry-Berry Belgian Waffles</name>\n",
       "<price>$8.95</price>\n",
       "<description>Light Belgian waffles covered with an assortment of fresh berries and whipped cream</description>\n",
       "<calories>900</calories>\n",
       "</food>"
      ]
     },
     "execution_count": 53,
     "metadata": {},
     "output_type": "execute_result"
    }
   ],
   "source": [
    "food_list[2]"
   ]
  },
  {
   "cell_type": "code",
   "execution_count": 84,
   "metadata": {},
   "outputs": [
    {
     "name": "stdout",
     "output_type": "stream",
     "text": [
      "-------------------------------------------XML RESTRAUNT------------------------------------\n",
      "\n",
      "\n",
      "Belgian Waffles--------------------------------------------------------------------------- $5.95\n",
      "Two of our famous Belgian Waffles with plenty of real maple syrup\n",
      "\n",
      "\n",
      "Strawberry Belgian Waffles---------------------------------------------------------------- $7.95\n",
      "Light Belgian waffles covered with strawberries and whipped cream\n",
      "\n",
      "\n",
      "Berry-Berry Belgian Waffles--------------------------------------------------------------- $8.95\n",
      "Light Belgian waffles covered with an assortment of fresh berries and whipped cream\n",
      "\n",
      "\n",
      "French Toast------------------------------------------------------------------------------ $4.50\n",
      "Thick slices made from our homemade sourdough bread\n",
      "\n",
      "\n",
      "Homestyle Breakfast----------------------------------------------------------------------- $6.95\n",
      "Two eggs, bacon or sausage, toast, and our ever-popular hash browns\n",
      "\n",
      "\n"
     ]
    }
   ],
   "source": [
    "print('-------------------------------------------XML RESTRAUNT------------------------------------')\n",
    "print('\\n')\n",
    "food_list = soup.find_all(\"food\")\n",
    "for food in food_list:\n",
    "    print(food.find('name').text.ljust(90,'-'),food.find('price').text)\n",
    "    print(food.find('description').text)\n",
    "    print('\\n')"
   ]
  },
  {
   "cell_type": "code",
   "execution_count": 72,
   "metadata": {},
   "outputs": [],
   "source": [
    "# \"food\"\n",
    "# help(str)"
   ]
  },
  {
   "cell_type": "code",
   "execution_count": 69,
   "metadata": {},
   "outputs": [
    {
     "data": {
      "text/plain": [
       "'---------------mohit'"
      ]
     },
     "execution_count": 69,
     "metadata": {},
     "output_type": "execute_result"
    }
   ],
   "source": [
    "'mohit'.rjust(20,'-')"
   ]
  },
  {
   "cell_type": "code",
   "execution_count": 70,
   "metadata": {},
   "outputs": [
    {
     "data": {
      "text/plain": [
       "'---------mohit singh'"
      ]
     },
     "execution_count": 70,
     "metadata": {},
     "output_type": "execute_result"
    }
   ],
   "source": [
    "'mohit singh'.rjust(20,'-')"
   ]
  },
  {
   "cell_type": "code",
   "execution_count": 76,
   "metadata": {},
   "outputs": [
    {
     "data": {
      "text/plain": [
       "'---------------$5.95'"
      ]
     },
     "execution_count": 76,
     "metadata": {},
     "output_type": "execute_result"
    }
   ],
   "source": [
    "food.find('price').text.rjust(20,'-')"
   ]
  },
  {
   "cell_type": "code",
   "execution_count": null,
   "metadata": {},
   "outputs": [],
   "source": [
    "CSV FILES\n",
    "COMMA SEPARATED VALUES"
   ]
  },
  {
   "cell_type": "code",
   "execution_count": null,
   "metadata": {},
   "outputs": [],
   "source": [
    "They are important to store the data in a table like format.\n",
    "We can make a table directly from a csv file using pandas, and many other libraries.\n",
    "excel or xlsx files are similar files which stores the tabular data.\n",
    "\n",
    "Generally Top first line contains the name of the coulumns or headers.\n",
    "\n",
    "They are convenient way to export data form spreadsheets and databases.\n",
    "csv files are created by programs that handle huge amount of data.\n",
    "\n",
    "They are easy to import and use."
   ]
  },
  {
   "cell_type": "code",
   "execution_count": 85,
   "metadata": {},
   "outputs": [],
   "source": [
    "import csv"
   ]
  },
  {
   "cell_type": "code",
   "execution_count": 88,
   "metadata": {},
   "outputs": [
    {
     "name": "stdout",
     "output_type": "stream",
     "text": [
      "<class '_csv.reader'>\n",
      "['name', 'department', 'birthday month']\n",
      "['John Smith', 'Accounting', 'November']\n",
      "['Erica Meyers', 'IT', 'March']\n",
      "['Vishal Gupta', 'Comp. Sci', 'Feb']\n"
     ]
    }
   ],
   "source": [
    "with open(\"test.txt\") as fp:\n",
    "    csv_reader = csv.reader(fp,delimiter = ',')\n",
    "    print(type(csv_reader))\n",
    "    for row in csv_reader:\n",
    "        print(row)"
   ]
  },
  {
   "cell_type": "code",
   "execution_count": 93,
   "metadata": {},
   "outputs": [],
   "source": [
    "with open('test2.txt','w+') as fp2:\n",
    "    fp2.write('Food Name,Price'+'\\n')\n",
    "    for food in food_list:\n",
    "        fp2.write(food.find('name').text+','+food.find('price').text+'\\n')"
   ]
  },
  {
   "cell_type": "code",
   "execution_count": 96,
   "metadata": {},
   "outputs": [
    {
     "name": "stdout",
     "output_type": "stream",
     "text": [
      "['Food Name', 'Price']\n",
      "['Belgian Waffles', '$5.95']\n",
      "['Strawberry Belgian Waffles', '$7.95']\n",
      "['Berry-Berry Belgian Waffles', '$8.95']\n",
      "['French Toast', '$4.50']\n",
      "['Homestyle Breakfast', '$6.95']\n"
     ]
    }
   ],
   "source": [
    "with open(\"test2.txt\") as fp:\n",
    "    csv_reader = csv.reader(fp,delimiter = ',')\n",
    "    for row in csv_reader:\n",
    "        print(row)"
   ]
  },
  {
   "cell_type": "code",
   "execution_count": null,
   "metadata": {},
   "outputs": [],
   "source": []
  }
 ],
 "metadata": {
  "kernelspec": {
   "display_name": "Python 3",
   "language": "python",
   "name": "python3"
  },
  "language_info": {
   "codemirror_mode": {
    "name": "ipython",
    "version": 3
   },
   "file_extension": ".py",
   "mimetype": "text/x-python",
   "name": "python",
   "nbconvert_exporter": "python",
   "pygments_lexer": "ipython3",
   "version": "3.8.3"
  }
 },
 "nbformat": 4,
 "nbformat_minor": 4
}
