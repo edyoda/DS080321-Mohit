{
 "cells": [
  {
   "cell_type": "code",
   "execution_count": 1,
   "metadata": {},
   "outputs": [],
   "source": [
    "class Animal:\n",
    "    animal = None\n",
    "    def __init__(self,name):\n",
    "        self.name = name\n",
    "        \n",
    "    def eat(self):\n",
    "        print(self.name, ' is eating')\n",
    "        \n",
    "class Dog(Animal):\n",
    "    Animal.animal = \"Dog\"\n",
    "    breed = None\n",
    "    def __init__(self,name,number_of_teeths):\n",
    "        self.teeths = number_of_teeths\n",
    "        super().__init__(name)\n",
    "\n",
    "    def bark(self):\n",
    "        print(self.name,' is barking with ',self.teeths,' number of teeths')"
   ]
  },
  {
   "cell_type": "code",
   "execution_count": 2,
   "metadata": {},
   "outputs": [],
   "source": [
    "YUKI = Dog('Yuki Singh Chouhan',42)"
   ]
  },
  {
   "cell_type": "code",
   "execution_count": 3,
   "metadata": {},
   "outputs": [
    {
     "name": "stdout",
     "output_type": "stream",
     "text": [
      "Yuki Singh Chouhan  is eating\n"
     ]
    }
   ],
   "source": [
    "YUKI.eat()"
   ]
  },
  {
   "cell_type": "code",
   "execution_count": 4,
   "metadata": {},
   "outputs": [
    {
     "name": "stdout",
     "output_type": "stream",
     "text": [
      "Help on Dog in module __main__ object:\n",
      "\n",
      "class Dog(Animal)\n",
      " |  Dog(name, number_of_teeths)\n",
      " |  \n",
      " |  Method resolution order:\n",
      " |      Dog\n",
      " |      Animal\n",
      " |      builtins.object\n",
      " |  \n",
      " |  Methods defined here:\n",
      " |  \n",
      " |  __init__(self, name, number_of_teeths)\n",
      " |      Initialize self.  See help(type(self)) for accurate signature.\n",
      " |  \n",
      " |  bark(self)\n",
      " |  \n",
      " |  ----------------------------------------------------------------------\n",
      " |  Data and other attributes defined here:\n",
      " |  \n",
      " |  breed = None\n",
      " |  \n",
      " |  ----------------------------------------------------------------------\n",
      " |  Methods inherited from Animal:\n",
      " |  \n",
      " |  eat(self)\n",
      " |  \n",
      " |  ----------------------------------------------------------------------\n",
      " |  Data descriptors inherited from Animal:\n",
      " |  \n",
      " |  __dict__\n",
      " |      dictionary for instance variables (if defined)\n",
      " |  \n",
      " |  __weakref__\n",
      " |      list of weak references to the object (if defined)\n",
      " |  \n",
      " |  ----------------------------------------------------------------------\n",
      " |  Data and other attributes inherited from Animal:\n",
      " |  \n",
      " |  animal = 'Dog'\n",
      "\n"
     ]
    }
   ],
   "source": [
    "help(YUKI)"
   ]
  },
  {
   "cell_type": "code",
   "execution_count": 42,
   "metadata": {},
   "outputs": [],
   "source": [
    "## MULTIPLE INHERITANCE AND SUPER() KEYWORD\n",
    "class A:\n",
    "    def __init__(self):\n",
    "        print('inside A')\n",
    "        super().__init__()\n",
    "    def eat(self):\n",
    "        print('A is eating')\n",
    "        super().eat()\n",
    "class B:\n",
    "    def __init__(self):\n",
    "        print('inside B')\n",
    "        super().__init__()\n",
    "    def eat(self):\n",
    "        print('B is eating')\n",
    "        super().eat()\n",
    "class C:\n",
    "    def __init__(self):\n",
    "        print('inside C')\n",
    "    def eat(self):\n",
    "        print('C is eating')\n",
    "        \n",
    "        \n",
    "class X(B,A,C):\n",
    "    def __init__(self):\n",
    "        print('inside X')\n",
    "        super().__init__()\n",
    "    def eat(self):\n",
    "        print('X is eating')\n",
    "        super().eat()"
   ]
  },
  {
   "cell_type": "code",
   "execution_count": 43,
   "metadata": {},
   "outputs": [
    {
     "name": "stdout",
     "output_type": "stream",
     "text": [
      "inside X\n",
      "inside B\n",
      "inside A\n",
      "inside C\n"
     ]
    }
   ],
   "source": [
    "obj = X()"
   ]
  },
  {
   "cell_type": "code",
   "execution_count": 40,
   "metadata": {},
   "outputs": [
    {
     "name": "stdout",
     "output_type": "stream",
     "text": [
      "X is eating\n",
      "B is eating\n",
      "A is eating\n",
      "C is eating\n"
     ]
    }
   ],
   "source": [
    "obj.eat()"
   ]
  },
  {
   "cell_type": "code",
   "execution_count": 41,
   "metadata": {},
   "outputs": [
    {
     "name": "stdout",
     "output_type": "stream",
     "text": [
      "Help on X in module __main__ object:\n",
      "\n",
      "class X(B, A, C)\n",
      " |  Method resolution order:\n",
      " |      X\n",
      " |      B\n",
      " |      A\n",
      " |      C\n",
      " |      builtins.object\n",
      " |  \n",
      " |  Methods defined here:\n",
      " |  \n",
      " |  __init__(self)\n",
      " |      Initialize self.  See help(type(self)) for accurate signature.\n",
      " |  \n",
      " |  eat(self)\n",
      " |  \n",
      " |  ----------------------------------------------------------------------\n",
      " |  Data descriptors inherited from B:\n",
      " |  \n",
      " |  __dict__\n",
      " |      dictionary for instance variables (if defined)\n",
      " |  \n",
      " |  __weakref__\n",
      " |      list of weak references to the object (if defined)\n",
      "\n"
     ]
    }
   ],
   "source": [
    "help(obj)"
   ]
  },
  {
   "cell_type": "code",
   "execution_count": 50,
   "metadata": {},
   "outputs": [],
   "source": [
    "## HIERARCHICAL INHERITANCE\n",
    "class Dog():\n",
    "    def __init__(self,name,number_of_teeths):\n",
    "        self.teeths = number_of_teeths\n",
    "        self.name = name\n",
    "        \n",
    "class Labrador(Dog):\n",
    "    def __init__(self,name,no_of_teeths,color):\n",
    "        print(\"Labrador\")\n",
    "        super().__init__(name,no_of_teeths)\n",
    "        self.color = color\n",
    "        \n",
    "class Pug(Dog):\n",
    "    def __init__(self,name,no_of_teeths):\n",
    "        print(\"PUG\")\n",
    "        super().__init__(name,no_of_teeths)"
   ]
  },
  {
   "cell_type": "code",
   "execution_count": 51,
   "metadata": {},
   "outputs": [
    {
     "name": "stdout",
     "output_type": "stream",
     "text": [
      "Labrador\n"
     ]
    }
   ],
   "source": [
    "obj1 = Labrador('Yuki Singh Chouhan',42,'Silver')"
   ]
  },
  {
   "cell_type": "code",
   "execution_count": 52,
   "metadata": {},
   "outputs": [
    {
     "name": "stdout",
     "output_type": "stream",
     "text": [
      "PUG\n"
     ]
    }
   ],
   "source": [
    "obj2 = Pug('Pug Shukla',5)"
   ]
  },
  {
   "cell_type": "code",
   "execution_count": 53,
   "metadata": {},
   "outputs": [
    {
     "name": "stdout",
     "output_type": "stream",
     "text": [
      "Help on Labrador in module __main__ object:\n",
      "\n",
      "class Labrador(Dog)\n",
      " |  Labrador(name, no_of_teeths, color)\n",
      " |  \n",
      " |  Method resolution order:\n",
      " |      Labrador\n",
      " |      Dog\n",
      " |      builtins.object\n",
      " |  \n",
      " |  Methods defined here:\n",
      " |  \n",
      " |  __init__(self, name, no_of_teeths, color)\n",
      " |      Initialize self.  See help(type(self)) for accurate signature.\n",
      " |  \n",
      " |  ----------------------------------------------------------------------\n",
      " |  Data descriptors inherited from Dog:\n",
      " |  \n",
      " |  __dict__\n",
      " |      dictionary for instance variables (if defined)\n",
      " |  \n",
      " |  __weakref__\n",
      " |      list of weak references to the object (if defined)\n",
      "\n"
     ]
    }
   ],
   "source": [
    "help(obj1)"
   ]
  },
  {
   "cell_type": "code",
   "execution_count": 54,
   "metadata": {},
   "outputs": [
    {
     "name": "stdout",
     "output_type": "stream",
     "text": [
      "Help on Pug in module __main__ object:\n",
      "\n",
      "class Pug(Dog)\n",
      " |  Pug(name, no_of_teeths)\n",
      " |  \n",
      " |  Method resolution order:\n",
      " |      Pug\n",
      " |      Dog\n",
      " |      builtins.object\n",
      " |  \n",
      " |  Methods defined here:\n",
      " |  \n",
      " |  __init__(self, name, no_of_teeths)\n",
      " |      Initialize self.  See help(type(self)) for accurate signature.\n",
      " |  \n",
      " |  ----------------------------------------------------------------------\n",
      " |  Data descriptors inherited from Dog:\n",
      " |  \n",
      " |  __dict__\n",
      " |      dictionary for instance variables (if defined)\n",
      " |  \n",
      " |  __weakref__\n",
      " |      list of weak references to the object (if defined)\n",
      "\n"
     ]
    }
   ],
   "source": [
    "help(obj2)"
   ]
  },
  {
   "cell_type": "code",
   "execution_count": 57,
   "metadata": {},
   "outputs": [],
   "source": [
    "## HYBRID INHERITANCE\n",
    "class A:\n",
    "    def __init__(self):\n",
    "        print('inside A')\n",
    "    def eat(self):\n",
    "        print('A is eating')\n",
    "        super().eat()\n",
    "class B(A):\n",
    "    def __init__(self):\n",
    "        print('inside B')\n",
    "        super().__init__()\n",
    "    def eat(self):\n",
    "        print('B is eating')\n",
    "        super().eat()\n",
    "class C(A):\n",
    "    def __init__(self):\n",
    "        print('inside C')\n",
    "        super().__init__()\n",
    "    def eat(self):\n",
    "        print('C is eating')\n",
    "        \n",
    "        \n",
    "class X(B,C):\n",
    "    def __init__(self):\n",
    "        print('inside X')\n",
    "        super().__init__()\n",
    "    def eat(self):\n",
    "        print('X is eating')\n",
    "        super().eat()"
   ]
  },
  {
   "cell_type": "code",
   "execution_count": 58,
   "metadata": {},
   "outputs": [
    {
     "name": "stdout",
     "output_type": "stream",
     "text": [
      "inside X\n",
      "inside B\n",
      "inside C\n",
      "inside A\n"
     ]
    }
   ],
   "source": [
    "obj = X()"
   ]
  },
  {
   "cell_type": "code",
   "execution_count": 62,
   "metadata": {},
   "outputs": [],
   "source": [
    "## HYBRID INHERITANCE 2\n",
    "class A:\n",
    "    def __init__(self):\n",
    "        print('inside A')\n",
    "    def eat(self):\n",
    "        print('A is eating')\n",
    "        super().eat()\n",
    "        \n",
    "class B(A):\n",
    "    def __init__(self):\n",
    "        print('inside B')\n",
    "        super().__init__()\n",
    "    def eat(self):\n",
    "        print('B is eating')\n",
    "        super().eat()\n",
    "class D(A):\n",
    "    def __init__(self):\n",
    "        print('inside D')\n",
    "        super().__init__()\n",
    "    def eat(self):\n",
    "        print('D is eating')\n",
    "        super().eat()\n",
    "        \n",
    "class C(B):\n",
    "    def __init__(self):\n",
    "        print('inside C')\n",
    "        super().__init__()\n",
    "    def eat(self):\n",
    "        print('C is eating')\n",
    "\n",
    "class E(D):\n",
    "    def __init__(self):\n",
    "        print('inside E')\n",
    "        super().__init__()\n",
    "    def eat(self):\n",
    "        print('E is eating')\n",
    "    \n",
    "class F(E,C):\n",
    "    def __init__(self):\n",
    "        print('inside F')\n",
    "        super().__init__()\n",
    "    def eat(self):\n",
    "        print('F is eating')\n",
    "        super().eat()"
   ]
  },
  {
   "cell_type": "code",
   "execution_count": 63,
   "metadata": {},
   "outputs": [
    {
     "name": "stdout",
     "output_type": "stream",
     "text": [
      "inside F\n",
      "inside E\n",
      "inside D\n",
      "inside C\n",
      "inside B\n",
      "inside A\n"
     ]
    }
   ],
   "source": [
    "obj = F()"
   ]
  },
  {
   "cell_type": "code",
   "execution_count": 64,
   "metadata": {},
   "outputs": [
    {
     "name": "stdout",
     "output_type": "stream",
     "text": [
      "Help on F in module __main__ object:\n",
      "\n",
      "class F(E, C)\n",
      " |  Method resolution order:\n",
      " |      F\n",
      " |      E\n",
      " |      D\n",
      " |      C\n",
      " |      B\n",
      " |      A\n",
      " |      builtins.object\n",
      " |  \n",
      " |  Methods defined here:\n",
      " |  \n",
      " |  __init__(self)\n",
      " |      Initialize self.  See help(type(self)) for accurate signature.\n",
      " |  \n",
      " |  eat(self)\n",
      " |  \n",
      " |  ----------------------------------------------------------------------\n",
      " |  Data descriptors inherited from A:\n",
      " |  \n",
      " |  __dict__\n",
      " |      dictionary for instance variables (if defined)\n",
      " |  \n",
      " |  __weakref__\n",
      " |      list of weak references to the object (if defined)\n",
      "\n"
     ]
    }
   ],
   "source": [
    "help(obj)"
   ]
  },
  {
   "cell_type": "code",
   "execution_count": null,
   "metadata": {},
   "outputs": [],
   "source": [
    "Access Specifiers:\n",
    "By default var and methods are public.\n",
    "\n",
    "Private: (__varname or __methodname) (you should only access these inside the same class)\n",
    "    (double underscores)\n",
    "    \n",
    "Protected: (_varname) (These should be accessed inside the inherited classes as well.)\n",
    "    (single underscores.)\n",
    "    \n",
    "IN python access specifiers are not strictly implemented."
   ]
  },
  {
   "cell_type": "code",
   "execution_count": 65,
   "metadata": {},
   "outputs": [],
   "source": [
    "class Dog():\n",
    "    def __init__(self,name,number_of_teeths):\n",
    "        self.__teeths = number_of_teeths\n",
    "        self.name = name\n",
    "        \n",
    "class Labrador(Dog):\n",
    "    def __init__(self,name,no_of_teeths,color):\n",
    "        print(\"Labrador\")\n",
    "        super().__init__(name,no_of_teeths)\n",
    "        self.color = color\n",
    "    def eat(self):\n",
    "        print(self.name,'is eating with ',self.__teeths)"
   ]
  },
  {
   "cell_type": "code",
   "execution_count": 67,
   "metadata": {},
   "outputs": [
    {
     "name": "stdout",
     "output_type": "stream",
     "text": [
      "Labrador\n"
     ]
    }
   ],
   "source": [
    "x = Labrador(\"Yuki Singh Chouhan\",42,'Silver')"
   ]
  },
  {
   "cell_type": "code",
   "execution_count": 68,
   "metadata": {},
   "outputs": [
    {
     "ename": "AttributeError",
     "evalue": "'Labrador' object has no attribute '_Labrador__teeths'",
     "output_type": "error",
     "traceback": [
      "\u001b[1;31m---------------------------------------------------------------------------\u001b[0m",
      "\u001b[1;31mAttributeError\u001b[0m                            Traceback (most recent call last)",
      "\u001b[1;32m<ipython-input-68-74bd6d1f51d3>\u001b[0m in \u001b[0;36m<module>\u001b[1;34m\u001b[0m\n\u001b[1;32m----> 1\u001b[1;33m \u001b[0mx\u001b[0m\u001b[1;33m.\u001b[0m\u001b[0meat\u001b[0m\u001b[1;33m(\u001b[0m\u001b[1;33m)\u001b[0m\u001b[1;33m\u001b[0m\u001b[1;33m\u001b[0m\u001b[0m\n\u001b[0m",
      "\u001b[1;32m<ipython-input-65-3f2920d70fb9>\u001b[0m in \u001b[0;36meat\u001b[1;34m(self)\u001b[0m\n\u001b[0;32m     10\u001b[0m         \u001b[0mself\u001b[0m\u001b[1;33m.\u001b[0m\u001b[0mcolor\u001b[0m \u001b[1;33m=\u001b[0m \u001b[0mcolor\u001b[0m\u001b[1;33m\u001b[0m\u001b[1;33m\u001b[0m\u001b[0m\n\u001b[0;32m     11\u001b[0m     \u001b[1;32mdef\u001b[0m \u001b[0meat\u001b[0m\u001b[1;33m(\u001b[0m\u001b[0mself\u001b[0m\u001b[1;33m)\u001b[0m\u001b[1;33m:\u001b[0m\u001b[1;33m\u001b[0m\u001b[1;33m\u001b[0m\u001b[0m\n\u001b[1;32m---> 12\u001b[1;33m         \u001b[0mprint\u001b[0m\u001b[1;33m(\u001b[0m\u001b[0mself\u001b[0m\u001b[1;33m.\u001b[0m\u001b[0mname\u001b[0m\u001b[1;33m,\u001b[0m\u001b[1;34m'is eating with '\u001b[0m\u001b[1;33m,\u001b[0m\u001b[0mself\u001b[0m\u001b[1;33m.\u001b[0m\u001b[0m__teeths\u001b[0m\u001b[1;33m)\u001b[0m\u001b[1;33m\u001b[0m\u001b[1;33m\u001b[0m\u001b[0m\n\u001b[0m",
      "\u001b[1;31mAttributeError\u001b[0m: 'Labrador' object has no attribute '_Labrador__teeths'"
     ]
    }
   ],
   "source": [
    "x.eat()"
   ]
  },
  {
   "cell_type": "code",
   "execution_count": null,
   "metadata": {},
   "outputs": [],
   "source": [
    "__teeths is a private variable, so we can access it inside the Animal class."
   ]
  },
  {
   "cell_type": "code",
   "execution_count": 69,
   "metadata": {},
   "outputs": [],
   "source": [
    "class Dog():\n",
    "    def __init__(self,name,number_of_teeths):\n",
    "        self.__teeths = number_of_teeths\n",
    "        self.name = name\n",
    "    def get_no_of_teeths(self):\n",
    "        return self.__teeths\n",
    "        \n",
    "class Labrador(Dog):\n",
    "    def __init__(self,name,no_of_teeths,color):\n",
    "        print(\"Labrador\")\n",
    "        super().__init__(name,no_of_teeths)\n",
    "        self.color = color\n",
    "    def eat(self):\n",
    "        print(self.name,'is eating with ',self.get_no_of_teeths())"
   ]
  },
  {
   "cell_type": "code",
   "execution_count": 70,
   "metadata": {},
   "outputs": [
    {
     "name": "stdout",
     "output_type": "stream",
     "text": [
      "Labrador\n",
      "Yuki Singh Chouhan is eating with  42\n"
     ]
    }
   ],
   "source": [
    "x = Labrador(\"Yuki Singh Chouhan\",42,'Silver')\n",
    "x.eat()"
   ]
  },
  {
   "cell_type": "code",
   "execution_count": 72,
   "metadata": {},
   "outputs": [
    {
     "data": {
      "text/plain": [
       "42"
      ]
     },
     "execution_count": 72,
     "metadata": {},
     "output_type": "execute_result"
    }
   ],
   "source": [
    "x.get_no_of_teeths()"
   ]
  },
  {
   "cell_type": "code",
   "execution_count": null,
   "metadata": {},
   "outputs": [],
   "source": []
  }
 ],
 "metadata": {
  "kernelspec": {
   "display_name": "Python 3",
   "language": "python",
   "name": "python3"
  },
  "language_info": {
   "codemirror_mode": {
    "name": "ipython",
    "version": 3
   },
   "file_extension": ".py",
   "mimetype": "text/x-python",
   "name": "python",
   "nbconvert_exporter": "python",
   "pygments_lexer": "ipython3",
   "version": "3.8.3"
  }
 },
 "nbformat": 4,
 "nbformat_minor": 4
}
