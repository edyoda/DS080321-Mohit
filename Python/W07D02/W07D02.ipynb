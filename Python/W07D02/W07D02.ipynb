{
 "cells": [
  {
   "cell_type": "code",
   "execution_count": 2,
   "metadata": {},
   "outputs": [],
   "source": [
    "class Car:\n",
    "    def __init__(self,color,brand,model,engine):\n",
    "        self.color_of_car = color\n",
    "        self.brand_of_car = brand\n",
    "        self.model_of_car = model\n",
    "        self.engine_of_car = engine\n",
    "        \n",
    "## Attributes: color_of_car,brand_of_car,model_of_car,engine_of_car"
   ]
  },
  {
   "cell_type": "code",
   "execution_count": null,
   "metadata": {},
   "outputs": [],
   "source": [
    "mohitsCar = Car('Green','Ford','Mustang','Gasoline') ## this line will be searching for an init method\n",
    "# inside the Car class which will take 4 arguments.\n",
    "\n",
    "## init is a special object method which runs automatically for the very first time when we\n",
    "## create the object"
   ]
  },
  {
   "cell_type": "code",
   "execution_count": 3,
   "metadata": {},
   "outputs": [],
   "source": [
    "mohitsCar = Car('Green','Ford','Mustang','Gasoline')"
   ]
  },
  {
   "cell_type": "code",
   "execution_count": 6,
   "metadata": {},
   "outputs": [
    {
     "name": "stdout",
     "output_type": "stream",
     "text": [
      "<class '__main__.Car'>\n"
     ]
    }
   ],
   "source": [
    "print(type(mohitsCar))"
   ]
  },
  {
   "cell_type": "code",
   "execution_count": 7,
   "metadata": {},
   "outputs": [],
   "source": [
    "kanishkasCar = Car('Red','Toyota','Prius','Electricity')"
   ]
  },
  {
   "cell_type": "code",
   "execution_count": 8,
   "metadata": {},
   "outputs": [
    {
     "data": {
      "text/plain": [
       "__main__.Car"
      ]
     },
     "execution_count": 8,
     "metadata": {},
     "output_type": "execute_result"
    }
   ],
   "source": [
    "type(kanishkasCar)"
   ]
  },
  {
   "cell_type": "code",
   "execution_count": 9,
   "metadata": {},
   "outputs": [
    {
     "data": {
      "text/plain": [
       "'Green'"
      ]
     },
     "execution_count": 9,
     "metadata": {},
     "output_type": "execute_result"
    }
   ],
   "source": [
    "mohitsCar.color_of_car"
   ]
  },
  {
   "cell_type": "code",
   "execution_count": 10,
   "metadata": {},
   "outputs": [
    {
     "data": {
      "text/plain": [
       "'Red'"
      ]
     },
     "execution_count": 10,
     "metadata": {},
     "output_type": "execute_result"
    }
   ],
   "source": [
    "kanishkasCar.color_of_car"
   ]
  },
  {
   "cell_type": "code",
   "execution_count": 11,
   "metadata": {},
   "outputs": [
    {
     "data": {
      "text/plain": [
       "'Electricity'"
      ]
     },
     "execution_count": 11,
     "metadata": {},
     "output_type": "execute_result"
    }
   ],
   "source": [
    "kanishkasCar.engine_of_car"
   ]
  },
  {
   "cell_type": "code",
   "execution_count": 12,
   "metadata": {},
   "outputs": [
    {
     "data": {
      "text/plain": [
       "'Gasoline'"
      ]
     },
     "execution_count": 12,
     "metadata": {},
     "output_type": "execute_result"
    }
   ],
   "source": [
    "mohitsCar.engine_of_car"
   ]
  },
  {
   "cell_type": "code",
   "execution_count": 13,
   "metadata": {},
   "outputs": [],
   "source": [
    "mohitsList = ['mohitsApple','mohitsKiwi']"
   ]
  },
  {
   "cell_type": "code",
   "execution_count": 14,
   "metadata": {},
   "outputs": [
    {
     "name": "stdout",
     "output_type": "stream",
     "text": [
      "<class 'list'>\n"
     ]
    }
   ],
   "source": [
    "print(type(mohitsList))\n",
    "\n",
    "## all builtin types are predefined classes.\n",
    "## now we are trying to understand how to create our own classes."
   ]
  },
  {
   "cell_type": "code",
   "execution_count": 17,
   "metadata": {},
   "outputs": [],
   "source": [
    "# help(list)"
   ]
  },
  {
   "cell_type": "code",
   "execution_count": 21,
   "metadata": {},
   "outputs": [],
   "source": [
    "class Car:\n",
    "    def accelerate(ananya):\n",
    "        print(ananya,'is being accelerated')\n",
    "    \n",
    "    def set_brand(self,brand):\n",
    "        self.brand_of_car = brand\n",
    "        \n",
    "    def set_color(self,color):\n",
    "        self.color_of_car = color"
   ]
  },
  {
   "cell_type": "code",
   "execution_count": 23,
   "metadata": {},
   "outputs": [
    {
     "name": "stdout",
     "output_type": "stream",
     "text": [
      "<__main__.Car object at 0x05BD19B8> is being accelerated\n",
      "tata\n",
      "pink\n",
      "nano\n",
      "MEHNDI\n"
     ]
    }
   ],
   "source": [
    "vishalcar = Car()\n",
    "vishalcar.accelerate()\n",
    "vishalcar.set_brand('tata')\n",
    "print(vishalcar.brand_of_car)\n",
    "vishalcar.set_color('pink')\n",
    "print(vishalcar.color_of_car)\n",
    "vishalcar.model_of_car = 'nano'\n",
    "\n",
    "print(vishalcar.model_of_car)\n",
    "vishalcar.set_color('MEHNDI')\n",
    "print(vishalcar.color_of_car)"
   ]
  },
  {
   "cell_type": "code",
   "execution_count": 35,
   "metadata": {},
   "outputs": [
    {
     "data": {
      "text/plain": [
       "'tata'"
      ]
     },
     "execution_count": 35,
     "metadata": {},
     "output_type": "execute_result"
    }
   ],
   "source": [
    "# vishalcar.brand_of_car"
   ]
  },
  {
   "cell_type": "code",
   "execution_count": 36,
   "metadata": {},
   "outputs": [
    {
     "data": {
      "text/plain": [
       "'pink'"
      ]
     },
     "execution_count": 36,
     "metadata": {},
     "output_type": "execute_result"
    }
   ],
   "source": [
    "vishalcar.color_of_car"
   ]
  },
  {
   "cell_type": "code",
   "execution_count": 10,
   "metadata": {},
   "outputs": [],
   "source": [
    "subhansusCar = Car()"
   ]
  },
  {
   "cell_type": "code",
   "execution_count": null,
   "metadata": {},
   "outputs": [],
   "source": []
  },
  {
   "cell_type": "code",
   "execution_count": 11,
   "metadata": {},
   "outputs": [
    {
     "ename": "AttributeError",
     "evalue": "'Car' object has no attribute 'color'",
     "output_type": "error",
     "traceback": [
      "\u001b[1;31m---------------------------------------------------------------------------\u001b[0m",
      "\u001b[1;31mAttributeError\u001b[0m                            Traceback (most recent call last)",
      "\u001b[1;32m<ipython-input-11-c845becee1ec>\u001b[0m in \u001b[0;36m<module>\u001b[1;34m\u001b[0m\n\u001b[1;32m----> 1\u001b[1;33m \u001b[0msubhansusCar\u001b[0m\u001b[1;33m.\u001b[0m\u001b[0mcolor\u001b[0m\u001b[1;33m\u001b[0m\u001b[1;33m\u001b[0m\u001b[0m\n\u001b[0m",
      "\u001b[1;31mAttributeError\u001b[0m: 'Car' object has no attribute 'color'"
     ]
    }
   ],
   "source": [
    "subhansusCar.color"
   ]
  },
  {
   "cell_type": "code",
   "execution_count": 12,
   "metadata": {},
   "outputs": [
    {
     "name": "stdout",
     "output_type": "stream",
     "text": [
      "<__main__.Car object at 0x05D506E8>\n"
     ]
    }
   ],
   "source": [
    "print(subhansusCar)"
   ]
  },
  {
   "cell_type": "code",
   "execution_count": 13,
   "metadata": {},
   "outputs": [
    {
     "name": "stdout",
     "output_type": "stream",
     "text": [
      "<__main__.Car object at 0x05D506E8> is being accelerated\n"
     ]
    }
   ],
   "source": [
    "subhansusCar.accelerate() ## automatically the subhanshusCar is passed as the first argument"
   ]
  },
  {
   "cell_type": "code",
   "execution_count": null,
   "metadata": {},
   "outputs": [],
   "source": [
    "## NOTE: IT IS NOT NECESSARY TO WRITE AN INIT METHOD."
   ]
  },
  {
   "cell_type": "code",
   "execution_count": 15,
   "metadata": {},
   "outputs": [],
   "source": [
    "subhansusCar.set_brand('Lamborghini')"
   ]
  },
  {
   "cell_type": "code",
   "execution_count": 16,
   "metadata": {},
   "outputs": [
    {
     "data": {
      "text/plain": [
       "'Lamborghini'"
      ]
     },
     "execution_count": 16,
     "metadata": {},
     "output_type": "execute_result"
    }
   ],
   "source": [
    "subhansusCar.brand_of_car"
   ]
  },
  {
   "cell_type": "code",
   "execution_count": 17,
   "metadata": {},
   "outputs": [],
   "source": [
    "rameezElonMusksCar = Car()"
   ]
  },
  {
   "cell_type": "code",
   "execution_count": 18,
   "metadata": {},
   "outputs": [
    {
     "name": "stdout",
     "output_type": "stream",
     "text": [
      "<__main__.Car object at 0x05D616B8> is being accelerated\n"
     ]
    }
   ],
   "source": [
    "rameezElonMusksCar.accelerate()"
   ]
  },
  {
   "cell_type": "code",
   "execution_count": 19,
   "metadata": {},
   "outputs": [],
   "source": [
    "rameezElonMusksCar.set_brand('tesla')"
   ]
  },
  {
   "cell_type": "code",
   "execution_count": 20,
   "metadata": {},
   "outputs": [
    {
     "data": {
      "text/plain": [
       "'tesla'"
      ]
     },
     "execution_count": 20,
     "metadata": {},
     "output_type": "execute_result"
    }
   ],
   "source": [
    "rameezElonMusksCar.brand_of_car"
   ]
  },
  {
   "cell_type": "code",
   "execution_count": 21,
   "metadata": {},
   "outputs": [],
   "source": [
    "rameezElonMusksCar.set_color('Satrangi')"
   ]
  },
  {
   "cell_type": "code",
   "execution_count": 22,
   "metadata": {},
   "outputs": [
    {
     "data": {
      "text/plain": [
       "'Satrangi'"
      ]
     },
     "execution_count": 22,
     "metadata": {},
     "output_type": "execute_result"
    }
   ],
   "source": [
    "rameezElonMusksCar.color_of_car"
   ]
  },
  {
   "cell_type": "code",
   "execution_count": 23,
   "metadata": {},
   "outputs": [],
   "source": [
    "subhansusCar.set_color('black')"
   ]
  },
  {
   "cell_type": "code",
   "execution_count": 24,
   "metadata": {},
   "outputs": [
    {
     "data": {
      "text/plain": [
       "'black'"
      ]
     },
     "execution_count": 24,
     "metadata": {},
     "output_type": "execute_result"
    }
   ],
   "source": [
    "subhansusCar.color_of_car"
   ]
  },
  {
   "cell_type": "code",
   "execution_count": 5,
   "metadata": {},
   "outputs": [],
   "source": [
    "class Dog:\n",
    "    def __init__(self,name,breed,color):\n",
    "        self.name_of_dog = name\n",
    "        self.breed_of_dog = breed\n",
    "        self.color_of_dog = color\n",
    "        \n",
    "    def bark(self):\n",
    "        print(self.name_of_dog,' is barking')\n",
    "    \n",
    "    def get_breed(self):\n",
    "        return self.breed_of_dog\n",
    "    \n",
    "    def wash(self):\n",
    "        print(self.color_of_dog,' looks more shiny')"
   ]
  },
  {
   "cell_type": "code",
   "execution_count": 10,
   "metadata": {},
   "outputs": [],
   "source": [
    "yuki = Dog('YUKI SINGH CHOUHAN','Labrador','Silver')"
   ]
  },
  {
   "cell_type": "code",
   "execution_count": 7,
   "metadata": {},
   "outputs": [
    {
     "name": "stdout",
     "output_type": "stream",
     "text": [
      "YUKI SINGH CHOUHAN  is barking\n"
     ]
    }
   ],
   "source": [
    "yuki.bark()"
   ]
  },
  {
   "cell_type": "code",
   "execution_count": 8,
   "metadata": {},
   "outputs": [
    {
     "name": "stdout",
     "output_type": "stream",
     "text": [
      "Silver  looks more shiny\n",
      "returned value is None\n"
     ]
    }
   ],
   "source": [
    "returned_value = yuki.wash()\n",
    "print('returned value is',returned_value)"
   ]
  },
  {
   "cell_type": "code",
   "execution_count": 29,
   "metadata": {},
   "outputs": [
    {
     "data": {
      "text/plain": [
       "'Labrador'"
      ]
     },
     "execution_count": 29,
     "metadata": {},
     "output_type": "execute_result"
    }
   ],
   "source": [
    "yuki.get_breed()"
   ]
  },
  {
   "cell_type": "code",
   "execution_count": 30,
   "metadata": {},
   "outputs": [],
   "source": [
    "sparky = Dog('Sparky Rehman','German Shephard','Brown-Black')"
   ]
  },
  {
   "cell_type": "code",
   "execution_count": 31,
   "metadata": {},
   "outputs": [
    {
     "name": "stdout",
     "output_type": "stream",
     "text": [
      "Brown-Black  looks more shiny\n"
     ]
    }
   ],
   "source": [
    "sparky.wash()"
   ]
  },
  {
   "cell_type": "code",
   "execution_count": 32,
   "metadata": {},
   "outputs": [
    {
     "name": "stdout",
     "output_type": "stream",
     "text": [
      "Sparky Rehman  is barking\n"
     ]
    }
   ],
   "source": [
    "sparky.bark()"
   ]
  },
  {
   "cell_type": "code",
   "execution_count": 33,
   "metadata": {},
   "outputs": [
    {
     "data": {
      "text/plain": [
       "'German Shephard'"
      ]
     },
     "execution_count": 33,
     "metadata": {},
     "output_type": "execute_result"
    }
   ],
   "source": [
    "sparky.get_breed()"
   ]
  },
  {
   "cell_type": "code",
   "execution_count": 8,
   "metadata": {},
   "outputs": [],
   "source": [
    "class fan:\n",
    "    def __init__(self,brand,rpm,warrantyperiod):\n",
    "        self.brand_of_fan=brand\n",
    "        self.rpm_of_fan=rpm\n",
    "        self.warrantyperiod_of_fan=warrantyperiod\n",
    "        self.dustrFree = True\n",
    "        self.fanRunCount = 0\n",
    "    def SwitchOn(self):\n",
    "        self.turnon = True\n",
    "        self.fanRunCount = self.fanRunCount + 1\n",
    "        if self.fanRunCount > 3:\n",
    "            self.dustrFree = False\n",
    "            print('FAN PE DUST LAG GAYA YEEEEYEEYEYE')\n",
    "        print('Turning On ',self.fanRunCount)"
   ]
  },
  {
   "cell_type": "code",
   "execution_count": 9,
   "metadata": {},
   "outputs": [],
   "source": [
    "atulsFan = fan('USHA','400','12')"
   ]
  },
  {
   "cell_type": "code",
   "execution_count": 10,
   "metadata": {},
   "outputs": [
    {
     "name": "stdout",
     "output_type": "stream",
     "text": [
      "Turning On  1\n"
     ]
    }
   ],
   "source": [
    "atulsFan.SwitchOn()"
   ]
  },
  {
   "cell_type": "code",
   "execution_count": 11,
   "metadata": {},
   "outputs": [
    {
     "data": {
      "text/plain": [
       "True"
      ]
     },
     "execution_count": 11,
     "metadata": {},
     "output_type": "execute_result"
    }
   ],
   "source": [
    "atulsFan.turnon"
   ]
  },
  {
   "cell_type": "code",
   "execution_count": 12,
   "metadata": {},
   "outputs": [
    {
     "data": {
      "text/plain": [
       "'USHA'"
      ]
     },
     "execution_count": 12,
     "metadata": {},
     "output_type": "execute_result"
    }
   ],
   "source": [
    "atulsFan.brand_of_fan"
   ]
  },
  {
   "cell_type": "code",
   "execution_count": 13,
   "metadata": {},
   "outputs": [
    {
     "data": {
      "text/plain": [
       "'400'"
      ]
     },
     "execution_count": 13,
     "metadata": {},
     "output_type": "execute_result"
    }
   ],
   "source": [
    "atulsFan.rpm_of_fan"
   ]
  },
  {
   "cell_type": "code",
   "execution_count": 15,
   "metadata": {},
   "outputs": [
    {
     "name": "stdout",
     "output_type": "stream",
     "text": [
      "Turning On  2\n"
     ]
    }
   ],
   "source": [
    "atulsFan.SwitchOn()"
   ]
  },
  {
   "cell_type": "code",
   "execution_count": 16,
   "metadata": {},
   "outputs": [
    {
     "data": {
      "text/plain": [
       "True"
      ]
     },
     "execution_count": 16,
     "metadata": {},
     "output_type": "execute_result"
    }
   ],
   "source": [
    "atulsFan.dustrFree"
   ]
  },
  {
   "cell_type": "code",
   "execution_count": 17,
   "metadata": {},
   "outputs": [
    {
     "name": "stdout",
     "output_type": "stream",
     "text": [
      "Turning On  3\n"
     ]
    }
   ],
   "source": [
    "atulsFan.SwitchOn()"
   ]
  },
  {
   "cell_type": "code",
   "execution_count": 18,
   "metadata": {},
   "outputs": [
    {
     "data": {
      "text/plain": [
       "True"
      ]
     },
     "execution_count": 18,
     "metadata": {},
     "output_type": "execute_result"
    }
   ],
   "source": [
    "atulsFan.dustrFree"
   ]
  },
  {
   "cell_type": "code",
   "execution_count": 19,
   "metadata": {},
   "outputs": [
    {
     "name": "stdout",
     "output_type": "stream",
     "text": [
      "FAN PE DUST LAG GAYA YEEEEYEEYEYE\n",
      "Turning On  4\n"
     ]
    }
   ],
   "source": [
    "atulsFan.SwitchOn()"
   ]
  },
  {
   "cell_type": "code",
   "execution_count": 20,
   "metadata": {},
   "outputs": [
    {
     "data": {
      "text/plain": [
       "False"
      ]
     },
     "execution_count": 20,
     "metadata": {},
     "output_type": "execute_result"
    }
   ],
   "source": [
    "atulsFan.dustrFree"
   ]
  },
  {
   "cell_type": "markdown",
   "metadata": {},
   "source": [
    "# Class Attribute Vs Object Attribute"
   ]
  },
  {
   "cell_type": "code",
   "execution_count": 39,
   "metadata": {},
   "outputs": [],
   "source": [
    "class fan:\n",
    "    work = 'Blows Air'\n",
    "    def __init__(self,brand,rpm,warrantyperiod):\n",
    "        print('Hello I am fan!!')\n",
    "        self.brand_of_fan=brand\n",
    "        self.rpm_of_fan=rpm\n",
    "        self.warrantyperiod_of_fan=warrantyperiod\n",
    "        self.dustrFree = True\n",
    "        self.fanRunCount = 0\n",
    "    def SwitchOn(self):\n",
    "        self.turnon = True\n",
    "        self.fanRunCount = self.fanRunCount + 1\n",
    "        if self.fanRunCount > 3:\n",
    "            self.dustrFree = False\n",
    "            print('FAN PE DUST LAG GAYA YEEEEYEEYEYE')\n",
    "        print('Turning On ',self.fanRunCount)\n",
    "        if self.fanRunCount > 100:\n",
    "            self.warrantyperiod_of_fan = False\n",
    "        \n",
    "# Object Attriburtes: brand_of_fan,rpm_of_fan,warrantyperiod_of_fan,dustrFree,fanRunCount,turnon(most imp)\n",
    "# class Attributes: "
   ]
  },
  {
   "cell_type": "code",
   "execution_count": 40,
   "metadata": {},
   "outputs": [
    {
     "name": "stdout",
     "output_type": "stream",
     "text": [
      "Hello I am fan!!\n"
     ]
    }
   ],
   "source": [
    "atulsFan = fan('USHA','400','12')"
   ]
  },
  {
   "cell_type": "code",
   "execution_count": 41,
   "metadata": {},
   "outputs": [
    {
     "data": {
      "text/plain": [
       "'Blows Air'"
      ]
     },
     "execution_count": 41,
     "metadata": {},
     "output_type": "execute_result"
    }
   ],
   "source": [
    "atulsFan.work"
   ]
  },
  {
   "cell_type": "code",
   "execution_count": 42,
   "metadata": {},
   "outputs": [
    {
     "name": "stdout",
     "output_type": "stream",
     "text": [
      "Hello I am fan!!\n"
     ]
    }
   ],
   "source": [
    "kanishkasFan = fan('BAJAJ',700,True)"
   ]
  },
  {
   "cell_type": "code",
   "execution_count": 43,
   "metadata": {},
   "outputs": [
    {
     "data": {
      "text/plain": [
       "'Blows Air'"
      ]
     },
     "execution_count": 43,
     "metadata": {},
     "output_type": "execute_result"
    }
   ],
   "source": [
    "kanishkasFan.work"
   ]
  },
  {
   "cell_type": "code",
   "execution_count": 44,
   "metadata": {},
   "outputs": [],
   "source": [
    "fan.work = 'blows water'"
   ]
  },
  {
   "cell_type": "code",
   "execution_count": 45,
   "metadata": {},
   "outputs": [
    {
     "data": {
      "text/plain": [
       "'blows water'"
      ]
     },
     "execution_count": 45,
     "metadata": {},
     "output_type": "execute_result"
    }
   ],
   "source": [
    "kanishkasFan.work"
   ]
  },
  {
   "cell_type": "code",
   "execution_count": 46,
   "metadata": {},
   "outputs": [
    {
     "data": {
      "text/plain": [
       "'blows water'"
      ]
     },
     "execution_count": 46,
     "metadata": {},
     "output_type": "execute_result"
    }
   ],
   "source": [
    "atulsFan.work"
   ]
  },
  {
   "cell_type": "code",
   "execution_count": 47,
   "metadata": {},
   "outputs": [
    {
     "data": {
      "text/plain": [
       "True"
      ]
     },
     "execution_count": 47,
     "metadata": {},
     "output_type": "execute_result"
    }
   ],
   "source": [
    "kanishkasFan.warrantyperiod_of_fan"
   ]
  },
  {
   "cell_type": "code",
   "execution_count": 48,
   "metadata": {},
   "outputs": [
    {
     "name": "stdout",
     "output_type": "stream",
     "text": [
      "Turning On  1\n",
      "Turning On  2\n",
      "Turning On  3\n",
      "FAN PE DUST LAG GAYA YEEEEYEEYEYE\n",
      "Turning On  4\n",
      "FAN PE DUST LAG GAYA YEEEEYEEYEYE\n",
      "Turning On  5\n",
      "FAN PE DUST LAG GAYA YEEEEYEEYEYE\n",
      "Turning On  6\n",
      "FAN PE DUST LAG GAYA YEEEEYEEYEYE\n",
      "Turning On  7\n",
      "FAN PE DUST LAG GAYA YEEEEYEEYEYE\n",
      "Turning On  8\n",
      "FAN PE DUST LAG GAYA YEEEEYEEYEYE\n",
      "Turning On  9\n",
      "FAN PE DUST LAG GAYA YEEEEYEEYEYE\n",
      "Turning On  10\n",
      "FAN PE DUST LAG GAYA YEEEEYEEYEYE\n",
      "Turning On  11\n",
      "FAN PE DUST LAG GAYA YEEEEYEEYEYE\n",
      "Turning On  12\n",
      "FAN PE DUST LAG GAYA YEEEEYEEYEYE\n",
      "Turning On  13\n",
      "FAN PE DUST LAG GAYA YEEEEYEEYEYE\n",
      "Turning On  14\n",
      "FAN PE DUST LAG GAYA YEEEEYEEYEYE\n",
      "Turning On  15\n",
      "FAN PE DUST LAG GAYA YEEEEYEEYEYE\n",
      "Turning On  16\n",
      "FAN PE DUST LAG GAYA YEEEEYEEYEYE\n",
      "Turning On  17\n",
      "FAN PE DUST LAG GAYA YEEEEYEEYEYE\n",
      "Turning On  18\n",
      "FAN PE DUST LAG GAYA YEEEEYEEYEYE\n",
      "Turning On  19\n",
      "FAN PE DUST LAG GAYA YEEEEYEEYEYE\n",
      "Turning On  20\n",
      "FAN PE DUST LAG GAYA YEEEEYEEYEYE\n",
      "Turning On  21\n",
      "FAN PE DUST LAG GAYA YEEEEYEEYEYE\n",
      "Turning On  22\n",
      "FAN PE DUST LAG GAYA YEEEEYEEYEYE\n",
      "Turning On  23\n",
      "FAN PE DUST LAG GAYA YEEEEYEEYEYE\n",
      "Turning On  24\n",
      "FAN PE DUST LAG GAYA YEEEEYEEYEYE\n",
      "Turning On  25\n",
      "FAN PE DUST LAG GAYA YEEEEYEEYEYE\n",
      "Turning On  26\n",
      "FAN PE DUST LAG GAYA YEEEEYEEYEYE\n",
      "Turning On  27\n",
      "FAN PE DUST LAG GAYA YEEEEYEEYEYE\n",
      "Turning On  28\n",
      "FAN PE DUST LAG GAYA YEEEEYEEYEYE\n",
      "Turning On  29\n",
      "FAN PE DUST LAG GAYA YEEEEYEEYEYE\n",
      "Turning On  30\n",
      "FAN PE DUST LAG GAYA YEEEEYEEYEYE\n",
      "Turning On  31\n",
      "FAN PE DUST LAG GAYA YEEEEYEEYEYE\n",
      "Turning On  32\n",
      "FAN PE DUST LAG GAYA YEEEEYEEYEYE\n",
      "Turning On  33\n",
      "FAN PE DUST LAG GAYA YEEEEYEEYEYE\n",
      "Turning On  34\n",
      "FAN PE DUST LAG GAYA YEEEEYEEYEYE\n",
      "Turning On  35\n",
      "FAN PE DUST LAG GAYA YEEEEYEEYEYE\n",
      "Turning On  36\n",
      "FAN PE DUST LAG GAYA YEEEEYEEYEYE\n",
      "Turning On  37\n",
      "FAN PE DUST LAG GAYA YEEEEYEEYEYE\n",
      "Turning On  38\n",
      "FAN PE DUST LAG GAYA YEEEEYEEYEYE\n",
      "Turning On  39\n",
      "FAN PE DUST LAG GAYA YEEEEYEEYEYE\n",
      "Turning On  40\n",
      "FAN PE DUST LAG GAYA YEEEEYEEYEYE\n",
      "Turning On  41\n",
      "FAN PE DUST LAG GAYA YEEEEYEEYEYE\n",
      "Turning On  42\n",
      "FAN PE DUST LAG GAYA YEEEEYEEYEYE\n",
      "Turning On  43\n",
      "FAN PE DUST LAG GAYA YEEEEYEEYEYE\n",
      "Turning On  44\n",
      "FAN PE DUST LAG GAYA YEEEEYEEYEYE\n",
      "Turning On  45\n",
      "FAN PE DUST LAG GAYA YEEEEYEEYEYE\n",
      "Turning On  46\n",
      "FAN PE DUST LAG GAYA YEEEEYEEYEYE\n",
      "Turning On  47\n",
      "FAN PE DUST LAG GAYA YEEEEYEEYEYE\n",
      "Turning On  48\n",
      "FAN PE DUST LAG GAYA YEEEEYEEYEYE\n",
      "Turning On  49\n",
      "FAN PE DUST LAG GAYA YEEEEYEEYEYE\n",
      "Turning On  50\n",
      "FAN PE DUST LAG GAYA YEEEEYEEYEYE\n",
      "Turning On  51\n",
      "FAN PE DUST LAG GAYA YEEEEYEEYEYE\n",
      "Turning On  52\n",
      "FAN PE DUST LAG GAYA YEEEEYEEYEYE\n",
      "Turning On  53\n",
      "FAN PE DUST LAG GAYA YEEEEYEEYEYE\n",
      "Turning On  54\n",
      "FAN PE DUST LAG GAYA YEEEEYEEYEYE\n",
      "Turning On  55\n",
      "FAN PE DUST LAG GAYA YEEEEYEEYEYE\n",
      "Turning On  56\n",
      "FAN PE DUST LAG GAYA YEEEEYEEYEYE\n",
      "Turning On  57\n",
      "FAN PE DUST LAG GAYA YEEEEYEEYEYE\n",
      "Turning On  58\n",
      "FAN PE DUST LAG GAYA YEEEEYEEYEYE\n",
      "Turning On  59\n",
      "FAN PE DUST LAG GAYA YEEEEYEEYEYE\n",
      "Turning On  60\n",
      "FAN PE DUST LAG GAYA YEEEEYEEYEYE\n",
      "Turning On  61\n",
      "FAN PE DUST LAG GAYA YEEEEYEEYEYE\n",
      "Turning On  62\n",
      "FAN PE DUST LAG GAYA YEEEEYEEYEYE\n",
      "Turning On  63\n",
      "FAN PE DUST LAG GAYA YEEEEYEEYEYE\n",
      "Turning On  64\n",
      "FAN PE DUST LAG GAYA YEEEEYEEYEYE\n",
      "Turning On  65\n",
      "FAN PE DUST LAG GAYA YEEEEYEEYEYE\n",
      "Turning On  66\n",
      "FAN PE DUST LAG GAYA YEEEEYEEYEYE\n",
      "Turning On  67\n",
      "FAN PE DUST LAG GAYA YEEEEYEEYEYE\n",
      "Turning On  68\n",
      "FAN PE DUST LAG GAYA YEEEEYEEYEYE\n",
      "Turning On  69\n",
      "FAN PE DUST LAG GAYA YEEEEYEEYEYE\n",
      "Turning On  70\n",
      "FAN PE DUST LAG GAYA YEEEEYEEYEYE\n",
      "Turning On  71\n",
      "FAN PE DUST LAG GAYA YEEEEYEEYEYE\n",
      "Turning On  72\n",
      "FAN PE DUST LAG GAYA YEEEEYEEYEYE\n",
      "Turning On  73\n",
      "FAN PE DUST LAG GAYA YEEEEYEEYEYE\n",
      "Turning On  74\n",
      "FAN PE DUST LAG GAYA YEEEEYEEYEYE\n",
      "Turning On  75\n",
      "FAN PE DUST LAG GAYA YEEEEYEEYEYE\n",
      "Turning On  76\n",
      "FAN PE DUST LAG GAYA YEEEEYEEYEYE\n",
      "Turning On  77\n",
      "FAN PE DUST LAG GAYA YEEEEYEEYEYE\n",
      "Turning On  78\n",
      "FAN PE DUST LAG GAYA YEEEEYEEYEYE\n",
      "Turning On  79\n",
      "FAN PE DUST LAG GAYA YEEEEYEEYEYE\n",
      "Turning On  80\n",
      "FAN PE DUST LAG GAYA YEEEEYEEYEYE\n",
      "Turning On  81\n",
      "FAN PE DUST LAG GAYA YEEEEYEEYEYE\n",
      "Turning On  82\n",
      "FAN PE DUST LAG GAYA YEEEEYEEYEYE\n",
      "Turning On  83\n",
      "FAN PE DUST LAG GAYA YEEEEYEEYEYE\n",
      "Turning On  84\n",
      "FAN PE DUST LAG GAYA YEEEEYEEYEYE\n",
      "Turning On  85\n",
      "FAN PE DUST LAG GAYA YEEEEYEEYEYE\n",
      "Turning On  86\n",
      "FAN PE DUST LAG GAYA YEEEEYEEYEYE\n",
      "Turning On  87\n",
      "FAN PE DUST LAG GAYA YEEEEYEEYEYE\n",
      "Turning On  88\n",
      "FAN PE DUST LAG GAYA YEEEEYEEYEYE\n",
      "Turning On  89\n",
      "FAN PE DUST LAG GAYA YEEEEYEEYEYE\n",
      "Turning On  90\n",
      "FAN PE DUST LAG GAYA YEEEEYEEYEYE\n",
      "Turning On  91\n",
      "FAN PE DUST LAG GAYA YEEEEYEEYEYE\n",
      "Turning On  92\n",
      "FAN PE DUST LAG GAYA YEEEEYEEYEYE\n",
      "Turning On  93\n",
      "FAN PE DUST LAG GAYA YEEEEYEEYEYE\n",
      "Turning On  94\n",
      "FAN PE DUST LAG GAYA YEEEEYEEYEYE\n",
      "Turning On  95\n",
      "FAN PE DUST LAG GAYA YEEEEYEEYEYE\n",
      "Turning On  96\n",
      "FAN PE DUST LAG GAYA YEEEEYEEYEYE\n",
      "Turning On  97\n",
      "FAN PE DUST LAG GAYA YEEEEYEEYEYE\n",
      "Turning On  98\n",
      "FAN PE DUST LAG GAYA YEEEEYEEYEYE\n",
      "Turning On  99\n",
      "FAN PE DUST LAG GAYA YEEEEYEEYEYE\n",
      "Turning On  100\n"
     ]
    }
   ],
   "source": [
    "for i in range(100):\n",
    "    kanishkasFan.SwitchOn()"
   ]
  },
  {
   "cell_type": "code",
   "execution_count": 49,
   "metadata": {},
   "outputs": [
    {
     "name": "stdout",
     "output_type": "stream",
     "text": [
      "FAN PE DUST LAG GAYA YEEEEYEEYEYE\n",
      "Turning On  101\n"
     ]
    }
   ],
   "source": [
    "kanishkasFan.SwitchOn()"
   ]
  },
  {
   "cell_type": "code",
   "execution_count": 50,
   "metadata": {},
   "outputs": [
    {
     "data": {
      "text/plain": [
       "False"
      ]
     },
     "execution_count": 50,
     "metadata": {},
     "output_type": "execute_result"
    }
   ],
   "source": [
    "kanishkasFan.warrantyperiod_of_fan"
   ]
  }
 ],
 "metadata": {
  "kernelspec": {
   "display_name": "Python 3",
   "language": "python",
   "name": "python3"
  },
  "language_info": {
   "codemirror_mode": {
    "name": "ipython",
    "version": 3
   },
   "file_extension": ".py",
   "mimetype": "text/x-python",
   "name": "python",
   "nbconvert_exporter": "python",
   "pygments_lexer": "ipython3",
   "version": "3.8.3"
  }
 },
 "nbformat": 4,
 "nbformat_minor": 4
}
