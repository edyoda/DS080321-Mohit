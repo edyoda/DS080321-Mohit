{
 "cells": [
  {
   "cell_type": "code",
   "execution_count": 1,
   "metadata": {},
   "outputs": [
    {
     "name": "stdout",
     "output_type": "stream",
     "text": [
      "Requirement already satisfied: requests in c:\\users\\mohit\\appdata\\local\\programs\\python\\python38-32\\lib\\site-packages (2.24.0)\n",
      "Requirement already satisfied: certifi>=2017.4.17 in c:\\users\\mohit\\appdata\\local\\programs\\python\\python38-32\\lib\\site-packages (from requests) (2020.6.20)\n",
      "Requirement already satisfied: urllib3!=1.25.0,!=1.25.1,<1.26,>=1.21.1 in c:\\users\\mohit\\appdata\\local\\programs\\python\\python38-32\\lib\\site-packages (from requests) (1.25.10)\n",
      "Requirement already satisfied: idna<3,>=2.5 in c:\\users\\mohit\\appdata\\local\\programs\\python\\python38-32\\lib\\site-packages (from requests) (2.10)\n",
      "Requirement already satisfied: chardet<4,>=3.0.2 in c:\\users\\mohit\\appdata\\local\\programs\\python\\python38-32\\lib\\site-packages (from requests) (3.0.4)\n",
      "Note: you may need to restart the kernel to use updated packages.\n"
     ]
    },
    {
     "name": "stderr",
     "output_type": "stream",
     "text": [
      "WARNING: You are using pip version 19.2.3, however version 21.1.2 is available.\n",
      "You should consider upgrading via the 'python -m pip install --upgrade pip' command.\n"
     ]
    }
   ],
   "source": [
    "pip install requests"
   ]
  },
  {
   "cell_type": "code",
   "execution_count": 2,
   "metadata": {},
   "outputs": [],
   "source": [
    "import requests"
   ]
  },
  {
   "cell_type": "code",
   "execution_count": 8,
   "metadata": {},
   "outputs": [],
   "source": [
    "response = requests.get('https://assessments.edyoda.com/instructor/classroom/')"
   ]
  },
  {
   "cell_type": "code",
   "execution_count": 9,
   "metadata": {},
   "outputs": [
    {
     "name": "stdout",
     "output_type": "stream",
     "text": [
      "<Response [200]>\n"
     ]
    }
   ],
   "source": [
    "print(response)"
   ]
  },
  {
   "cell_type": "code",
   "execution_count": 10,
   "metadata": {},
   "outputs": [
    {
     "data": {
      "text/plain": [
       "requests.models.Response"
      ]
     },
     "execution_count": 10,
     "metadata": {},
     "output_type": "execute_result"
    }
   ],
   "source": [
    "type(response)"
   ]
  },
  {
   "cell_type": "code",
   "execution_count": 15,
   "metadata": {},
   "outputs": [],
   "source": [
    "# response.text"
   ]
  },
  {
   "cell_type": "code",
   "execution_count": null,
   "metadata": {},
   "outputs": [],
   "source": [
    "HTTP STATUS CODES: SHOW US THE STATUS OF THE REQUEST THAT WE MADE\n",
    "    \n",
    "200: OK\n",
    "400: BAD REQUEST\n",
    "401: UNAUTHORIZED\n",
    "403: FORBIDDEN\n",
    "404: BAD RESPONSE"
   ]
  },
  {
   "cell_type": "markdown",
   "metadata": {},
   "source": [
    "## WHAT ARE API'S"
   ]
  },
  {
   "cell_type": "code",
   "execution_count": null,
   "metadata": {},
   "outputs": [],
   "source": [
    "API'S ARE GENERALLY USE TO EXCHANGE DATA. (JSON IS MOSTLY USED TO INTERCHANGE THE DATA WITH THE API'S)\n",
    "\n",
    "CONSIDER THAT YOU ARE IN A RESTRAUNT\n",
    "1) CALL THE WAITER\n",
    "2) YOU WILL TELL HIM THE ORDER DETAILS (LIKE PIZZA COLD DRINKS)\n",
    "3) WAITER WILL GO BACK IN THE KITCHEN AND TELL CHEF TO MAKE A PIZZA, AND PREPARE THE COLD DRINKS\n",
    "    IN GLASSES.\n",
    "4) WAITER WILL COME BACK AFTER SOME TIME WITH PREPARED FOOD (PIZZA AND COLD DRINKS)\n",
    "\n",
    "API ARE ANALOGOUS TO A WAITER . API === WAITER\n",
    "\n",
    "1) CALL THE API\n",
    "2) YOU WILL GIVE IT SOME INFO (PAYLOAD(IS IT IS A POST REQUEST)) OR PARAMETERS (IF IT IS A GET REQUEST)\n",
    "3) API WILL GO BACK TO THE SERVER SIDE LOGIC WHICH MIGHT ACCESS THE DATABASE AND PREPARE THE DATA \n",
    "WHICH WE HAVE REQUESTED.\n",
    "4) API WILL COME BACK WITH THE RESPONSE"
   ]
  },
  {
   "cell_type": "code",
   "execution_count": null,
   "metadata": {},
   "outputs": [],
   "source": [
    "NORMAL WEBSITES VS API'S\n",
    "\n",
    "NORMAL WEBSITES ARE FOR HUMAN READABILITY AND ACCESIBILITY\n",
    "\n",
    "BUT API'S ARE USED BY CODE TO READ AND ACCESS THE DATA.\n",
    "\n",
    "API'S WILL GAVE DATA IN JSONS, OR OTHER CODE READABLE FORMAT.\n",
    "NORMAL WEBSITES GIVE DATA IN HTML OR HUMAN ACCESSIBLE FORMAT."
   ]
  },
  {
   "cell_type": "code",
   "execution_count": null,
   "metadata": {},
   "outputs": [],
   "source": [
    "Examples of API'S\n",
    "\n",
    "Uber App: It uses API'S of Google Maps to Calculate the fair for the user.\n",
    "    It also pays to google map for this usage.\n",
    "    \n",
    "Google map can  take payment based on the no of api's which are fired from your app.\n",
    "\n",
    "There are lots of Apps and Websites which shows data like weather information, world related data,\n",
    "covid related data, finance market related data, etc"
   ]
  },
  {
   "cell_type": "code",
   "execution_count": null,
   "metadata": {},
   "outputs": [],
   "source": [
    "TYPES OF API'S\n",
    "\n",
    "GET --> WE WANT SOME DATA FROM A SERVER/WEBSITE\n",
    "\n",
    "POST --> WE WANT TO SEND SOME DATA TO A SERVER/WEBSITE\n",
    "\n",
    "ETC."
   ]
  },
  {
   "cell_type": "code",
   "execution_count": 16,
   "metadata": {},
   "outputs": [],
   "source": [
    "covid19_api_url = \"https://api.covid19api.com/summary\"\n",
    "covid_response = requests.get(covid19_api_url)"
   ]
  },
  {
   "cell_type": "code",
   "execution_count": 17,
   "metadata": {},
   "outputs": [
    {
     "data": {
      "text/plain": [
       "<Response [200]>"
      ]
     },
     "execution_count": 17,
     "metadata": {},
     "output_type": "execute_result"
    }
   ],
   "source": [
    "covid_response"
   ]
  },
  {
   "cell_type": "code",
   "execution_count": 19,
   "metadata": {},
   "outputs": [],
   "source": [
    "json_response = covid_response.json()"
   ]
  },
  {
   "cell_type": "code",
   "execution_count": 20,
   "metadata": {},
   "outputs": [
    {
     "data": {
      "text/plain": [
       "dict_keys(['ID', 'Message', 'Global', 'Countries', 'Date'])"
      ]
     },
     "execution_count": 20,
     "metadata": {},
     "output_type": "execute_result"
    }
   ],
   "source": [
    "json_response.keys()"
   ]
  },
  {
   "cell_type": "code",
   "execution_count": 24,
   "metadata": {},
   "outputs": [
    {
     "data": {
      "text/plain": [
       "list"
      ]
     },
     "execution_count": 24,
     "metadata": {},
     "output_type": "execute_result"
    }
   ],
   "source": [
    "type(json_response['Countries'])"
   ]
  },
  {
   "cell_type": "code",
   "execution_count": 25,
   "metadata": {},
   "outputs": [
    {
     "data": {
      "text/plain": [
       "191"
      ]
     },
     "execution_count": 25,
     "metadata": {},
     "output_type": "execute_result"
    }
   ],
   "source": [
    "len(json_response['Countries'])"
   ]
  },
  {
   "cell_type": "code",
   "execution_count": 26,
   "metadata": {},
   "outputs": [
    {
     "data": {
      "text/plain": [
       "{'ID': '3fcb3f10-7779-4bcb-a5c1-562be1afa513',\n",
       " 'Country': 'Angola',\n",
       " 'CountryCode': 'AO',\n",
       " 'Slug': 'angola',\n",
       " 'NewConfirmed': 0,\n",
       " 'TotalConfirmed': 33607,\n",
       " 'NewDeaths': 0,\n",
       " 'TotalDeaths': 745,\n",
       " 'NewRecovered': 0,\n",
       " 'TotalRecovered': 27529,\n",
       " 'Date': '2021-05-28T09:12:34.998Z',\n",
       " 'Premium': {}}"
      ]
     },
     "execution_count": 26,
     "metadata": {},
     "output_type": "execute_result"
    }
   ],
   "source": [
    "json_response['Countries'][4]"
   ]
  },
  {
   "cell_type": "code",
   "execution_count": 32,
   "metadata": {},
   "outputs": [
    {
     "name": "stdout",
     "output_type": "stream",
     "text": [
      "Requirement already satisfied: requests in c:\\users\\mohit\\appdata\\local\\programs\\python\\python38-32\\lib\\site-packages (2.24.0)\n",
      "Requirement already satisfied: idna<3,>=2.5 in c:\\users\\mohit\\appdata\\local\\programs\\python\\python38-32\\lib\\site-packages (from requests) (2.10)\n",
      "Requirement already satisfied: urllib3!=1.25.0,!=1.25.1,<1.26,>=1.21.1 in c:\\users\\mohit\\appdata\\local\\programs\\python\\python38-32\\lib\\site-packages (from requests) (1.25.10)\n",
      "Requirement already satisfied: chardet<4,>=3.0.2 in c:\\users\\mohit\\appdata\\local\\programs\\python\\python38-32\\lib\\site-packages (from requests) (3.0.4)\n",
      "Requirement already satisfied: certifi>=2017.4.17 in c:\\users\\mohit\\appdata\\local\\programs\\python\\python38-32\\lib\\site-packages (from requests) (2020.6.20)\n",
      "Note: you may need to restart the kernel to use updated packages.\n"
     ]
    },
    {
     "name": "stderr",
     "output_type": "stream",
     "text": [
      "WARNING: You are using pip version 19.2.3, however version 21.1.2 is available.\n",
      "You should consider upgrading via the 'python -m pip install --upgrade pip' command.\n"
     ]
    }
   ],
   "source": [
    "pip install requests"
   ]
  },
  {
   "cell_type": "code",
   "execution_count": null,
   "metadata": {},
   "outputs": [],
   "source": [
    "import requests\n",
    "\n",
    "response_from_http_bin_org = requests.get('https://httpbin.org/get')\n",
    "\n",
    "response_json =  response_from_http_bin_org.json()\n",
    "print(response_json)"
   ]
  },
  {
   "cell_type": "code",
   "execution_count": 33,
   "metadata": {},
   "outputs": [
    {
     "name": "stdout",
     "output_type": "stream",
     "text": [
      "{\n",
      "  \"args\": {}, \n",
      "  \"data\": \"{\\\"python\\\":3,\\\"java\\\":8}\", \n",
      "  \"files\": {}, \n",
      "  \"form\": {}, \n",
      "  \"headers\": {\n",
      "    \"Accept\": \"*/*\", \n",
      "    \"Accept-Encoding\": \"gzip, deflate\", \n",
      "    \"Content-Length\": \"21\", \n",
      "    \"Content-Type\": \"application/json\", \n",
      "    \"Host\": \"httpbin.org\", \n",
      "    \"User-Agent\": \"python-requests/2.24.0\", \n",
      "    \"X-Amzn-Trace-Id\": \"Root=1-60b1d0a0-3b4d4b6e53085d8e75109c1a\"\n",
      "  }, \n",
      "  \"json\": {\n",
      "    \"java\": 8, \n",
      "    \"python\": 3\n",
      "  }, \n",
      "  \"origin\": \"157.38.20.84\", \n",
      "  \"url\": \"https://httpbin.org/post\"\n",
      "}\n",
      "\n"
     ]
    }
   ],
   "source": [
    "import requests\n",
    "\n",
    "url = \"https://httpbin.org/post\"\n",
    "\n",
    "payload=\"{\\\"python\\\":3,\\\"java\\\":8}\"\n",
    "headers = {\n",
    "  'Content-Type': 'application/json'\n",
    "}\n",
    "\n",
    "response = requests.request(\"POST\", url, headers=headers, data=payload)\n",
    "\n",
    "print(response.text)"
   ]
  },
  {
   "cell_type": "code",
   "execution_count": null,
   "metadata": {},
   "outputs": [],
   "source": []
  }
 ],
 "metadata": {
  "kernelspec": {
   "display_name": "Python 3",
   "language": "python",
   "name": "python3"
  },
  "language_info": {
   "codemirror_mode": {
    "name": "ipython",
    "version": 3
   },
   "file_extension": ".py",
   "mimetype": "text/x-python",
   "name": "python",
   "nbconvert_exporter": "python",
   "pygments_lexer": "ipython3",
   "version": "3.8.3"
  }
 },
 "nbformat": 4,
 "nbformat_minor": 4
}
