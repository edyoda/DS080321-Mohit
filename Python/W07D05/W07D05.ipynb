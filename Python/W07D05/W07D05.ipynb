{
 "cells": [
  {
   "cell_type": "code",
   "execution_count": null,
   "metadata": {},
   "outputs": [],
   "source": [
    "Q1.Create a Time class and initialize it with hours and minutes.\n",
    "1. Make a method addTime which should take two time object and add them.\n",
    "E.g.- (2 hour and 50 min)+(1 hr and 20 min) is (4 hr and 10 min)\n",
    "2. Make a method displayTime which should print the time.\n",
    "3. Make a method DisplayMinute which should display the total minutes in the␣\n",
    ",→Time.\n",
    "E.g.- (1 hr 2 min) should display 62 minute.\n",
    "\n",
    "10 Mins"
   ]
  },
  {
   "cell_type": "code",
   "execution_count": 2,
   "metadata": {},
   "outputs": [],
   "source": [
    "Class method\n",
    "@classmethod\n",
    "\n",
    "Object method\n",
    "\n",
    "Static method\n",
    "@staticmethod\n",
    "\n",
    "How do we call :\n",
    "    class method-> \n",
    "    1) Name of the class like\n",
    "    class x:\n",
    "        @classmethod \n",
    "        def y(cls):\n",
    "            blah blah\n",
    "    x.y()\n",
    "    \n",
    "    2) Name of the Object like\n",
    "        class x:\n",
    "            @classmethod \n",
    "            def y(cls):\n",
    "                blah blah\n",
    "        obj_of_x = x()\n",
    "        obj_of_x.y()\n",
    "    \n",
    "    3) cls Ref\n",
    "            class x:\n",
    "                @classmethod \n",
    "                def y(cls):\n",
    "                    cls.z()\n",
    "                    blah blah\n",
    "                @classmethod \n",
    "                def z(cls):\n",
    "                    more blah blah\n",
    "            obj_of_x = x()\n",
    "            obj_of_x.y()\n",
    "    \n",
    "    Obj Methods->\n",
    "            class x:\n",
    "                def y(self):\n",
    "                    self.z()\n",
    "                    blah blah\n",
    "                def z(self):\n",
    "                    more and more blah\n",
    "        obj_of_x = x()\n",
    "        obj_of_x.y()\n",
    "        \n",
    "        dunder methods are nothing but subpart of object methods which are called using special ways.\n",
    "        __len__(self) => len(obj)\n",
    "        __str__(self) => str(obj)\n",
    "        __add__(self,another) => obj + obj2\n",
    "        etc\n",
    "        \n",
    "    Static methods:-\n",
    "        class x:\n",
    "            @staticmethod\n",
    "            def y():\n",
    "                print('we are doing some static stuff')\n",
    "            \n",
    "            Calling is similar like class methods."
   ]
  },
  {
   "cell_type": "code",
   "execution_count": 10,
   "metadata": {},
   "outputs": [],
   "source": [
    "import random\n",
    "class Paytm():\n",
    "    def __init__(self,name):\n",
    "        self.name = name\n",
    "        print('Welcome ' + str(self.name))\n",
    "        \n",
    "    def account_info(self,mobile_no):\n",
    "        list_of_account = []\n",
    "        self.contact = mobile_no\n",
    "        if self.contact in list_of_account:\n",
    "            print(\"You are already a Paytm user\")\n",
    "        else:\n",
    "            print(\"Please create your Paytm ID\")\n",
    "    \n",
    "    def create_paytmid(self):\n",
    "        paytmid = random.randint(999,10000)\n",
    "        paytmid = self.name + str(paytmid)\n",
    "        print(\"Your paytm id is: \" + str(paytmid))\n",
    "        \n",
    "    def credit_account(self):\n",
    "        balance = 0\n",
    "        credit_amount = int(input(\"Enter the amount you want to credit in your wallet\"))\n",
    "        balance = balance + credit_amount\n",
    "        print(\"You have succsfully credited INR \" + str(credit_amount) + ' in your Paytm Wallet')\n",
    "        print(\"You current wallet balance is INR \" + str(balance) + ' in your Paytm Wallet')"
   ]
  },
  {
   "cell_type": "code",
   "execution_count": 11,
   "metadata": {},
   "outputs": [
    {
     "name": "stdout",
     "output_type": "stream",
     "text": [
      "Welcome Mohit\n"
     ]
    }
   ],
   "source": [
    "obj_of_paytm = Paytm('Mohit')"
   ]
  },
  {
   "cell_type": "code",
   "execution_count": 12,
   "metadata": {},
   "outputs": [
    {
     "name": "stdout",
     "output_type": "stream",
     "text": [
      "Your paytm id is: Mohit4409\n"
     ]
    }
   ],
   "source": [
    "obj_of_paytm.create_paytmid()"
   ]
  },
  {
   "cell_type": "code",
   "execution_count": null,
   "metadata": {},
   "outputs": [],
   "source": [
    "Class method is something which plays around with the class attribute and class attribute is something which is \n",
    "common to all the objects.\n",
    "So if you want to do something which will be valid for all the objects of the class than we generally make a classmethod\n",
    "for this task.\n",
    "\n",
    "Object method only do something for that single object from which we call the object method."
   ]
  },
  {
   "cell_type": "code",
   "execution_count": null,
   "metadata": {},
   "outputs": [],
   "source": [
    "class Vehicle:\n",
    "    RTO_Registry_List = [] ## class attribute?\n",
    "    AmountCollectedforRTO = 0 ## class attribute?\n",
    "    \n",
    "    @classmethod\n",
    "    def RegisterWithRTO(cls,NO,money):\n",
    "        cls.AmountCollectedforRTO += money # shortcut to cls.AmountCollectedforRTO = cls.AmountCollectedforRTO + money\n",
    "        cls.RTO_Registry_List.append(NO)\n",
    "    \n",
    "\tdef __init__(self):\n",
    "\t\tself.gear=0\n",
    "\n",
    "\tdef ignite(self):\n",
    "\t\tself.speed=0\n",
    "\n",
    "\tdef gearup(self):\n",
    "\t\tif self.gear<5:\n",
    "\t\t\tself.gear+=1\n",
    "\t\telse:\n",
    "\t\t\tprint('car already in top gear')\n",
    "\n",
    "\tdef accelerate(self):\n",
    "\t\tif self.gear==0:\n",
    "\t\t\tprint('car not in gear')\n",
    "\t\telse:\n",
    "\t\t\tself.speed+=10\n",
    "\n",
    "\tdef slowdown(self):\n",
    "\t\tself.speed-=10\n",
    "\n",
    "\tdef geardown(self):\n",
    "\t\tif self.gear>0:\n",
    "\t\t\tself.gear-=1\n",
    "\n",
    "\tdef brake(self):\n",
    "\t\tself.speed=0\n",
    "\n",
    "Atul_royce=Vehicle()\n",
    "Atul_royce.ignite()\n",
    "Atul_royce.gearup()\n",
    "Atul_royce.accelerate()\n",
    "print(Atul_royce.speed)"
   ]
  },
  {
   "cell_type": "code",
   "execution_count": null,
   "metadata": {},
   "outputs": [],
   "source": [
    "Q1.Create a Time class and initialize it with hours and minutes.\n",
    "1. Make a method addTime which should take two time object and add them.\n",
    "E.g.- (2 hour and 50 min)+(1 hr and 20 min) is (4 hr and 10 min)\n",
    "2. Make a method displayTime which should print the time.\n",
    "3. Make a method DisplayMinute which should display the total minutes in the␣\n",
    ",→Time.\n",
    "E.g.- (1 hr 2 min) should display 62 minute."
   ]
  },
  {
   "cell_type": "code",
   "execution_count": 18,
   "metadata": {},
   "outputs": [],
   "source": [
    "class Time:\n",
    "    def __init__(self,hours,minutes):\n",
    "        self.minutes = minutes\n",
    "        self.hours = hours\n",
    "        \n",
    "    def displayTime(self):\n",
    "        print(self.hours, \"hour and \",self.minutes,'minutes')\n",
    "        \n",
    "    def DisplayMinute(self):\n",
    "        total_minutes = self.minutes + self.hours*60\n",
    "        print(total_minutes)\n",
    "        \n",
    "    @staticmethod\n",
    "    def utility(minutes):\n",
    "        x = minutes%60\n",
    "        y = minutes//60\n",
    "        return (x,y)\n",
    "        \n",
    "    def __add__(self,other):\n",
    "        x,y = self.utility(self.minutes + other.minutes)\n",
    "        return Time(self.hours + other.hours + y,x)"
   ]
  },
  {
   "cell_type": "code",
   "execution_count": 19,
   "metadata": {},
   "outputs": [
    {
     "name": "stdout",
     "output_type": "stream",
     "text": [
      "4 hour and  10 minutes\n"
     ]
    }
   ],
   "source": [
    "t1 = Time(2,50)\n",
    "t2 = Time(1,20)\n",
    "t3 = t1 + t2 ## this is like calling t3 = t1.__add__(t2)\n",
    "t3.displayTime()"
   ]
  },
  {
   "cell_type": "code",
   "execution_count": 15,
   "metadata": {},
   "outputs": [
    {
     "data": {
      "text/plain": [
       "1"
      ]
     },
     "execution_count": 15,
     "metadata": {},
     "output_type": "execute_result"
    }
   ],
   "source": [
    "## this is 1 proper hour we got from 60\n",
    "70//60"
   ]
  },
  {
   "cell_type": "code",
   "execution_count": 16,
   "metadata": {},
   "outputs": [
    {
     "data": {
      "text/plain": [
       "10"
      ]
     },
     "execution_count": 16,
     "metadata": {},
     "output_type": "execute_result"
    }
   ],
   "source": [
    "## this is the minutes left , extra from the 60.\n",
    "\n",
    "70%60"
   ]
  },
  {
   "cell_type": "code",
   "execution_count": 20,
   "metadata": {},
   "outputs": [],
   "source": [
    "class Animal:\n",
    "    animal = None\n",
    "    def __init__(self,name):\n",
    "        self.name = name\n",
    "        \n",
    "    def eat(self):\n",
    "        print(self.name, ' is eating')\n",
    "        \n",
    "class Dog(Animal):\n",
    "    Animal.animal = \"Dog\"\n",
    "    breed = None\n",
    "    def bark(self):\n",
    "        print(self.name,' is barking')\n",
    "        \n",
    "yuki = Dog('YUKI SINGH CHOUHAN')\n",
    "\n",
    "class Car(Animal):\n",
    "    Animal.animal = \"Cat\"\n",
    "    breed = None"
   ]
  },
  {
   "cell_type": "code",
   "execution_count": 21,
   "metadata": {},
   "outputs": [
    {
     "name": "stdout",
     "output_type": "stream",
     "text": [
      "YUKI SINGH CHOUHAN  is barking\n"
     ]
    }
   ],
   "source": [
    "yuki.bark()"
   ]
  },
  {
   "cell_type": "code",
   "execution_count": 22,
   "metadata": {},
   "outputs": [
    {
     "name": "stdout",
     "output_type": "stream",
     "text": [
      "YUKI SINGH CHOUHAN  is eating\n"
     ]
    }
   ],
   "source": [
    "yuki.eat()"
   ]
  },
  {
   "cell_type": "code",
   "execution_count": null,
   "metadata": {},
   "outputs": [],
   "source": [
    "What is yuki here?\n",
    "1) object\n",
    "2) reference to the object\n",
    "\n",
    "??"
   ]
  },
  {
   "cell_type": "markdown",
   "metadata": {},
   "source": [
    "## Method Overriding "
   ]
  },
  {
   "cell_type": "markdown",
   "metadata": {},
   "source": [
    "### Overwriting the existing fun in parent.\n",
    "### if we have the same named parent fun in child, than when I create a child object and call it , it will call the fun of child"
   ]
  },
  {
   "cell_type": "code",
   "execution_count": 26,
   "metadata": {},
   "outputs": [],
   "source": [
    "class Animal:\n",
    "    animal = None\n",
    "    def __init__(self,name):\n",
    "        self.name = name\n",
    "        \n",
    "    def eat(self):\n",
    "        print(self.name, ' is eating')\n",
    "        \n",
    "class Dog(Animal):\n",
    "    Animal.animal = \"Dog\"\n",
    "    breed = None\n",
    "    def bark(self):\n",
    "        print(self.name,' is barking')\n",
    "    \n",
    "    def eat(self):\n",
    "        print(self.name,' is eating with joy!')\n",
    "        \n",
    "class Labrador(Dog):\n",
    "    Dog.breed = \"Labrador\"\n",
    "    def eat(self):\n",
    "        print(self.name,' is eating with more joy!!')\n",
    "        \n",
    "yuki = Labrador('YUKI SINGH CHOUHAN')"
   ]
  },
  {
   "cell_type": "code",
   "execution_count": 27,
   "metadata": {},
   "outputs": [
    {
     "name": "stdout",
     "output_type": "stream",
     "text": [
      "YUKI SINGH CHOUHAN  is eating with more joy!!\n"
     ]
    }
   ],
   "source": [
    "yuki.eat()"
   ]
  },
  {
   "cell_type": "code",
   "execution_count": 28,
   "metadata": {},
   "outputs": [
    {
     "name": "stdout",
     "output_type": "stream",
     "text": [
      "Mr Yuki  is eating\n"
     ]
    }
   ],
   "source": [
    "animal_obj = Animal('Mr Yuki')\n",
    "animal_obj.eat()"
   ]
  },
  {
   "cell_type": "markdown",
   "metadata": {},
   "source": [
    "## super keyword"
   ]
  },
  {
   "cell_type": "code",
   "execution_count": 38,
   "metadata": {},
   "outputs": [],
   "source": [
    "class Animal:\n",
    "    animal = None\n",
    "    def __init__(self,name):\n",
    "        self.name = name\n",
    "        \n",
    "    def eat(self):\n",
    "        print(self.name, ' is eating')\n",
    "        \n",
    "class Dog(Animal):\n",
    "    Animal.animal = \"Dog\"\n",
    "    breed = None\n",
    "    def __init__(self,name,number_of_teeths):\n",
    "        self.teeths = number_of_teeths\n",
    "        super().__init__(name)\n",
    "\n",
    "    def bark(self):\n",
    "        print(self.name,' is barking with ',self.teeths,' number of teeths')\n",
    "    \n",
    "    def eat(self):\n",
    "        print(self.name,' is eating with joy!')"
   ]
  },
  {
   "cell_type": "code",
   "execution_count": 39,
   "metadata": {},
   "outputs": [],
   "source": [
    "yuki = Dog('YUKI SINGH CHOUHAN',42)"
   ]
  },
  {
   "cell_type": "code",
   "execution_count": 40,
   "metadata": {},
   "outputs": [
    {
     "name": "stdout",
     "output_type": "stream",
     "text": [
      "YUKI SINGH CHOUHAN  is barking with  42  number of teeths\n"
     ]
    }
   ],
   "source": [
    "yuki.bark()"
   ]
  },
  {
   "cell_type": "code",
   "execution_count": null,
   "metadata": {},
   "outputs": [],
   "source": [
    "Q2 Create a Car class inherited from vehicle.\n",
    "\n",
    "10 mins"
   ]
  },
  {
   "cell_type": "code",
   "execution_count": null,
   "metadata": {},
   "outputs": [],
   "source": [
    "Q3 Create a cow class inherited from animal.\n",
    "\n",
    "10 mins"
   ]
  },
  {
   "cell_type": "code",
   "execution_count": 41,
   "metadata": {},
   "outputs": [],
   "source": [
    "class Animal:\n",
    "    animal = \"None\"\n",
    "    def __init__(self,name):\n",
    "        self.name = name\n",
    "        \n",
    "    def eat(self):\n",
    "        print(self.name, ' is eating')\n",
    "        \n",
    "    def grazing(self):\n",
    "        super().print(self.name,' is Chewing')\n",
    "        \n",
    "class Cow(Animal):\n",
    "    Animal.animal = \"Cow\"\n",
    "    breed = \"None\"\n",
    "    def grazing(self):\n",
    "        print(self.name,' is grazing')\n",
    "        \n",
    "Shanti= Cow('Shanti')"
   ]
  },
  {
   "cell_type": "code",
   "execution_count": 42,
   "metadata": {},
   "outputs": [
    {
     "name": "stdout",
     "output_type": "stream",
     "text": [
      "Shanti  is grazing\n"
     ]
    }
   ],
   "source": [
    "Shanti.grazing()"
   ]
  },
  {
   "cell_type": "code",
   "execution_count": 43,
   "metadata": {},
   "outputs": [
    {
     "name": "stdout",
     "output_type": "stream",
     "text": [
      "Maruti 800 has seating capacity of 5\n",
      "RX 100 has seating capacity of 2\n"
     ]
    }
   ],
   "source": [
    "class Vehicle:\n",
    "    vehicle = \"None\"\n",
    "    def __init__(self,name):\n",
    "        self.name = name\n",
    "        #self.speed = speed\n",
    "        \n",
    "class car(Vehicle):\n",
    "    Vehicle.vehicle = \"car\"\n",
    "    def __init__(self,name,seat):\n",
    "        self.seat = seat\n",
    "        super().__init__(name)\n",
    "    \n",
    "    def seatcapacity(self):\n",
    "        print(self.name,\"has seating capacity of\",self.seat)\n",
    "        \n",
    "class bike(car):\n",
    "    def bikedetails(self):\n",
    "        print(self.name,\"has seating capacity of\",self.seat)\n",
    "        \n",
    "Car = car(\"Maruti 800\",5)\n",
    "Car.seatcapacity()\n",
    "\n",
    "Bike = bike(\"RX 100\",2)\n",
    "Bike.bikedetails()"
   ]
  },
  {
   "cell_type": "code",
   "execution_count": null,
   "metadata": {},
   "outputs": [],
   "source": []
  }
 ],
 "metadata": {
  "kernelspec": {
   "display_name": "Python 3",
   "language": "python",
   "name": "python3"
  },
  "language_info": {
   "codemirror_mode": {
    "name": "ipython",
    "version": 3
   },
   "file_extension": ".py",
   "mimetype": "text/x-python",
   "name": "python",
   "nbconvert_exporter": "python",
   "pygments_lexer": "ipython3",
   "version": "3.8.3"
  }
 },
 "nbformat": 4,
 "nbformat_minor": 4
}
