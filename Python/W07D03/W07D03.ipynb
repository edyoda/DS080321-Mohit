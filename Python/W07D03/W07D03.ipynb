{
 "cells": [
  {
   "cell_type": "code",
   "execution_count": 30,
   "metadata": {},
   "outputs": [],
   "source": [
    "class person:\n",
    "    SPECIES = 'homosapian'# class attribute\n",
    "    def __init__(self,name,gender): #special object method\n",
    "        print('family is blessed with baby',gender)\n",
    "        self.nameofperson = name  # nameofperson is object attribute\n",
    "        self.genderofperson = gender #genderofperson is object attribute\n",
    "        self.friends=[]# friends is object attribute\n",
    "        \n",
    "    def eat(self): #object method\n",
    "        print(self.nameofperson ,'is eating')\n",
    "        \n",
    "    def makefriends(self,friend): #object method\n",
    "        self.friends.append(friend)\n",
    "        \n",
    "    def set_name(self,name): #object method\n",
    "        self.nameofperson=name\n",
    "        \n",
    "    def getname(self): #object method\n",
    "        print(self)\n",
    "        return self.nameofperson\n",
    "        \n",
    "    @classmethod\n",
    "    def changespecies(cls,newspecies):\n",
    "        cls.SPECIES = newspecies\n",
    "        \n",
    "    @classmethod\n",
    "    def getSpecies(cls):\n",
    "        return cls.SPECIES"
   ]
  },
  {
   "cell_type": "code",
   "execution_count": 35,
   "metadata": {},
   "outputs": [
    {
     "name": "stdout",
     "output_type": "stream",
     "text": [
      "<class 'type'>\n"
     ]
    }
   ],
   "source": [
    "print(type(person))"
   ]
  },
  {
   "cell_type": "code",
   "execution_count": 31,
   "metadata": {},
   "outputs": [
    {
     "name": "stdout",
     "output_type": "stream",
     "text": [
      "family is blessed with baby Boy\n"
     ]
    }
   ],
   "source": [
    "bharat = person('Bharat Nartam','Boy')"
   ]
  },
  {
   "cell_type": "code",
   "execution_count": 36,
   "metadata": {},
   "outputs": [
    {
     "name": "stdout",
     "output_type": "stream",
     "text": [
      "<class '__main__.person'>\n"
     ]
    }
   ],
   "source": [
    "print(type(bharat))"
   ]
  },
  {
   "cell_type": "code",
   "execution_count": 33,
   "metadata": {},
   "outputs": [
    {
     "name": "stdout",
     "output_type": "stream",
     "text": [
      "<__main__.person object at 0x06211808>\n"
     ]
    }
   ],
   "source": [
    "print(bharat)"
   ]
  },
  {
   "cell_type": "code",
   "execution_count": 32,
   "metadata": {},
   "outputs": [
    {
     "name": "stdout",
     "output_type": "stream",
     "text": [
      "<__main__.person object at 0x06211808>\n"
     ]
    },
    {
     "data": {
      "text/plain": [
       "'Bharat Nartam'"
      ]
     },
     "execution_count": 32,
     "metadata": {},
     "output_type": "execute_result"
    }
   ],
   "source": [
    "bharat.getname()\n",
    "\n",
    "## WHEN I CALL AN OBJECT METHOD, AUTOMATICALLY OBJ REF IS PASSED AS THE FIRST ARGUMENT."
   ]
  },
  {
   "cell_type": "code",
   "execution_count": 17,
   "metadata": {},
   "outputs": [
    {
     "name": "stdout",
     "output_type": "stream",
     "text": [
      "family is blessed with baby Boy\n"
     ]
    }
   ],
   "source": [
    "vishal = person('Vishal Gupta','Boy')"
   ]
  },
  {
   "cell_type": "code",
   "execution_count": 18,
   "metadata": {},
   "outputs": [
    {
     "name": "stdout",
     "output_type": "stream",
     "text": [
      "family is blessed with baby Girl\n"
     ]
    }
   ],
   "source": [
    "chaitrali = person('Chaitrali Deshpandey','Girl')"
   ]
  },
  {
   "cell_type": "code",
   "execution_count": 19,
   "metadata": {},
   "outputs": [
    {
     "data": {
      "text/plain": [
       "'homosapian'"
      ]
     },
     "execution_count": 19,
     "metadata": {},
     "output_type": "execute_result"
    }
   ],
   "source": [
    "bharat.SPECIES"
   ]
  },
  {
   "cell_type": "code",
   "execution_count": 20,
   "metadata": {},
   "outputs": [
    {
     "data": {
      "text/plain": [
       "'homosapian'"
      ]
     },
     "execution_count": 20,
     "metadata": {},
     "output_type": "execute_result"
    }
   ],
   "source": [
    "chaitrali.SPECIES"
   ]
  },
  {
   "cell_type": "code",
   "execution_count": 21,
   "metadata": {},
   "outputs": [],
   "source": [
    "person.changespecies('HomoSapiens ++')"
   ]
  },
  {
   "cell_type": "code",
   "execution_count": 22,
   "metadata": {},
   "outputs": [
    {
     "data": {
      "text/plain": [
       "'HomoSapiens ++'"
      ]
     },
     "execution_count": 22,
     "metadata": {},
     "output_type": "execute_result"
    }
   ],
   "source": [
    "chaitrali.SPECIES"
   ]
  },
  {
   "cell_type": "code",
   "execution_count": 23,
   "metadata": {},
   "outputs": [
    {
     "data": {
      "text/plain": [
       "'HomoSapiens ++'"
      ]
     },
     "execution_count": 23,
     "metadata": {},
     "output_type": "execute_result"
    }
   ],
   "source": [
    "bharat.SPECIES"
   ]
  },
  {
   "cell_type": "code",
   "execution_count": 24,
   "metadata": {},
   "outputs": [],
   "source": [
    "chaitrali.changespecies('Mango')"
   ]
  },
  {
   "cell_type": "code",
   "execution_count": 25,
   "metadata": {},
   "outputs": [
    {
     "data": {
      "text/plain": [
       "'Mango'"
      ]
     },
     "execution_count": 25,
     "metadata": {},
     "output_type": "execute_result"
    }
   ],
   "source": [
    "chaitrali.SPECIES"
   ]
  },
  {
   "cell_type": "code",
   "execution_count": 26,
   "metadata": {},
   "outputs": [
    {
     "data": {
      "text/plain": [
       "'Mango'"
      ]
     },
     "execution_count": 26,
     "metadata": {},
     "output_type": "execute_result"
    }
   ],
   "source": [
    "bharat.SPECIES"
   ]
  },
  {
   "cell_type": "code",
   "execution_count": 27,
   "metadata": {},
   "outputs": [
    {
     "ename": "TypeError",
     "evalue": "getname() missing 1 required positional argument: 'self'",
     "output_type": "error",
     "traceback": [
      "\u001b[1;31m---------------------------------------------------------------------------\u001b[0m",
      "\u001b[1;31mTypeError\u001b[0m                                 Traceback (most recent call last)",
      "\u001b[1;32m<ipython-input-27-df1d0a1f1c6c>\u001b[0m in \u001b[0;36m<module>\u001b[1;34m\u001b[0m\n\u001b[1;32m----> 1\u001b[1;33m \u001b[0mperson\u001b[0m\u001b[1;33m.\u001b[0m\u001b[0mgetname\u001b[0m\u001b[1;33m(\u001b[0m\u001b[1;33m)\u001b[0m\u001b[1;33m\u001b[0m\u001b[1;33m\u001b[0m\u001b[0m\n\u001b[0m",
      "\u001b[1;31mTypeError\u001b[0m: getname() missing 1 required positional argument: 'self'"
     ]
    }
   ],
   "source": [
    "person.getname()"
   ]
  },
  {
   "cell_type": "code",
   "execution_count": 28,
   "metadata": {},
   "outputs": [
    {
     "data": {
      "text/plain": [
       "'Mango'"
      ]
     },
     "execution_count": 28,
     "metadata": {},
     "output_type": "execute_result"
    }
   ],
   "source": [
    "person.getSpecies()"
   ]
  },
  {
   "cell_type": "code",
   "execution_count": null,
   "metadata": {},
   "outputs": [],
   "source": [
    "## Create a Student Record:\n",
    "\n",
    "Student:\n",
    "    name # obj attr\n",
    "    roll_no # obj attr\n",
    "    marks = {'history':0,'mechanics':0,'chemistry':0} # obj attr\n",
    "    \n",
    "    student_obj.add_marks({'history':50,'mechanics':50,'chemistry':50}) # obj method\n",
    "    \n",
    "    find_topper(): # class method\n",
    "        \n",
    "    find_failed(): # class method\n",
    "        \n",
    "    percentage() # obj method"
   ]
  },
  {
   "cell_type": "code",
   "execution_count": null,
   "metadata": {},
   "outputs": [],
   "source": [
    "## NOTES:\n",
    "self is the keyword which contain reference to the current obj"
   ]
  },
  {
   "cell_type": "code",
   "execution_count": 47,
   "metadata": {},
   "outputs": [],
   "source": [
    "class Student:\n",
    "    student_list = [] # class attribute\n",
    "    total_marks = 300 # class attribute\n",
    "    fail_percentage = 33 # class attribute\n",
    "    \n",
    "    def __init__(self,name,roll_no):\n",
    "        self.name = name\n",
    "        self.roll_no = roll_no\n",
    "        self.marks = {'history':0,'mechanics':0,'chemistry':0}\n",
    "        Student.student_list.append(self)\n",
    "        \n",
    "    def add_marks(self,marks):\n",
    "        self.marks = marks\n",
    "        self.percentage = (sum(marks.values())/Student.total_marks)*100\n",
    "        if self.percentage < Student.fail_percentage:\n",
    "            self.fail = True\n",
    "        else:\n",
    "            self.fail = False\n",
    "    \n",
    "    @classmethod\n",
    "    def find_topper(cls):\n",
    "        highest_percent = float('-inf')\n",
    "        current_topper = cls.student_list[0]\n",
    "        for obj in cls.student_list:\n",
    "            if obj.percentage > highest_percent:\n",
    "                highest_percent = obj.percentage\n",
    "                current_topper = obj\n",
    "        return current_topper"
   ]
  },
  {
   "cell_type": "code",
   "execution_count": 48,
   "metadata": {},
   "outputs": [],
   "source": [
    "himanshi = Student('Himanshi Mishra',3)\n",
    "\n",
    "# What is student_obj ?\n",
    "# student_obj is a reference to the the newly created object in the memory"
   ]
  },
  {
   "cell_type": "code",
   "execution_count": 49,
   "metadata": {},
   "outputs": [],
   "source": [
    "vishal = Student('Vishal Gupta',4)"
   ]
  },
  {
   "cell_type": "code",
   "execution_count": 50,
   "metadata": {},
   "outputs": [],
   "source": [
    "atul = Student('Atul Kumar',1)"
   ]
  },
  {
   "cell_type": "code",
   "execution_count": 51,
   "metadata": {},
   "outputs": [],
   "source": [
    "himanshi.add_marks( {'history':80,'mechanics':80,'chemistry':70})"
   ]
  },
  {
   "cell_type": "code",
   "execution_count": 52,
   "metadata": {},
   "outputs": [],
   "source": [
    "vishal.add_marks({'history':100,'mechanics':90,'chemistry':99})"
   ]
  },
  {
   "cell_type": "code",
   "execution_count": 53,
   "metadata": {},
   "outputs": [],
   "source": [
    "atul.add_marks({'history':10,'mechanics':23,'chemistry':19})"
   ]
  },
  {
   "cell_type": "code",
   "execution_count": 56,
   "metadata": {},
   "outputs": [
    {
     "data": {
      "text/plain": [
       "96.33333333333334"
      ]
     },
     "execution_count": 56,
     "metadata": {},
     "output_type": "execute_result"
    }
   ],
   "source": [
    "atul.find_topper()."
   ]
  },
  {
   "cell_type": "code",
   "execution_count": 58,
   "metadata": {},
   "outputs": [
    {
     "data": {
      "text/plain": [
       "17.333333333333336"
      ]
     },
     "execution_count": 58,
     "metadata": {},
     "output_type": "execute_result"
    }
   ],
   "source": [
    "atul.percentage"
   ]
  },
  {
   "cell_type": "code",
   "execution_count": 57,
   "metadata": {},
   "outputs": [
    {
     "data": {
      "text/plain": [
       "76.66666666666667"
      ]
     },
     "execution_count": 57,
     "metadata": {},
     "output_type": "execute_result"
    }
   ],
   "source": [
    "himanshi.percentage"
   ]
  },
  {
   "cell_type": "code",
   "execution_count": 39,
   "metadata": {},
   "outputs": [
    {
     "name": "stdout",
     "output_type": "stream",
     "text": [
      "150\n"
     ]
    }
   ],
   "source": [
    "marks_dict = {'history':50,'mechanics':50,'chemistry':50}\n",
    "\n",
    "print(sum(marks_dict.values()))"
   ]
  },
  {
   "cell_type": "code",
   "execution_count": 40,
   "metadata": {},
   "outputs": [
    {
     "data": {
      "text/plain": [
       "0.5"
      ]
     },
     "execution_count": 40,
     "metadata": {},
     "output_type": "execute_result"
    }
   ],
   "source": [
    "150/300"
   ]
  },
  {
   "cell_type": "code",
   "execution_count": 41,
   "metadata": {},
   "outputs": [
    {
     "data": {
      "text/plain": [
       "50.0"
      ]
     },
     "execution_count": 41,
     "metadata": {},
     "output_type": "execute_result"
    }
   ],
   "source": [
    "0.5*100"
   ]
  },
  {
   "cell_type": "code",
   "execution_count": null,
   "metadata": {},
   "outputs": [],
   "source": []
  }
 ],
 "metadata": {
  "kernelspec": {
   "display_name": "Python 3",
   "language": "python",
   "name": "python3"
  },
  "language_info": {
   "codemirror_mode": {
    "name": "ipython",
    "version": 3
   },
   "file_extension": ".py",
   "mimetype": "text/x-python",
   "name": "python",
   "nbconvert_exporter": "python",
   "pygments_lexer": "ipython3",
   "version": "3.8.3"
  }
 },
 "nbformat": 4,
 "nbformat_minor": 4
}
