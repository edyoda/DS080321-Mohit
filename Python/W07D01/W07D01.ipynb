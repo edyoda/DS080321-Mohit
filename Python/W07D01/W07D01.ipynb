{
 "cells": [
  {
   "cell_type": "code",
   "execution_count": null,
   "metadata": {},
   "outputs": [],
   "source": [
    "https://assessments.edyoda.com/courses/problem/PYTHON/197/0/"
   ]
  },
  {
   "cell_type": "code",
   "execution_count": 1,
   "metadata": {},
   "outputs": [
    {
     "data": {
      "text/plain": [
       "['a', 'b', 'c', 'd']"
      ]
     },
     "execution_count": 1,
     "metadata": {},
     "output_type": "execute_result"
    }
   ],
   "source": [
    "sorted('abcd')"
   ]
  },
  {
   "cell_type": "code",
   "execution_count": 8,
   "metadata": {},
   "outputs": [
    {
     "data": {
      "text/plain": [
       "True"
      ]
     },
     "execution_count": 8,
     "metadata": {},
     "output_type": "execute_result"
    }
   ],
   "source": [
    "sorted('aabcd') == sorted('abacd')"
   ]
  },
  {
   "cell_type": "code",
   "execution_count": null,
   "metadata": {},
   "outputs": [],
   "source": [
    "## Naive solution without lambda\n",
    "\n",
    "all_words_list = input().split()\n",
    "word = input()\n",
    "\n",
    "def fun1(word_to_check):\n",
    "\tif len(word_to_check) != len(word):\n",
    "\t\treturn False\n",
    "\tfor char in word:\n",
    "\t\tif char not in word_to_check:\n",
    "\t\t\treturn False\n",
    "\telse:\n",
    "\t\treturn True\n",
    "\t\n",
    "filtered_list = list(filter(fun1,all_words_list))\n",
    "print(filtered_list)"
   ]
  },
  {
   "cell_type": "code",
   "execution_count": null,
   "metadata": {},
   "outputs": [],
   "source": [
    "# solution with set and length\n",
    "s=input().split()\n",
    "t=input()\n",
    "fn=lambda v: set(t)==set(v) and len(t)==len(v) \n",
    "f=list(filter(fn,s))\n",
    "print(f)\n",
    "\n",
    "# this will fail the following test cases:\n",
    "# 'aabcd' and 'bbacd' are not anagrams but the solution will think so."
   ]
  },
  {
   "cell_type": "code",
   "execution_count": null,
   "metadata": {},
   "outputs": [],
   "source": [
    "# final solution\n",
    "all_words_list = input().split()\n",
    "word = input()\n",
    "\t\n",
    "filtered_list = list(filter(lambda word_to_check:sorted(word) == sorted(word_to_check),all_words_list))\n",
    "print(filtered_list)"
   ]
  },
  {
   "cell_type": "markdown",
   "metadata": {},
   "source": [
    "# OBJECT ORIENTED PROGRAMMING"
   ]
  },
  {
   "cell_type": "code",
   "execution_count": null,
   "metadata": {},
   "outputs": [],
   "source": [
    "SYNTAX\n",
    "\n",
    "class class_name:\n",
    "    ## class_attributes (optional)\n",
    "    ## init_method (optional) (will be called automatically when we create object of this class)\n",
    "    ## methods(class and object) and object_attributes (optional)    "
   ]
  },
  {
   "cell_type": "code",
   "execution_count": 11,
   "metadata": {},
   "outputs": [],
   "source": [
    "class Person:\n",
    "    def __init__(self,name,gender):\n",
    "        print('Family is blessed with baby',gender)\n",
    "        self.NAME = name\n",
    "        self.GENDER = gender\n",
    "        self.friends = []\n",
    "    \n",
    "    def eat(self):\n",
    "        print(self.NAME,' is now eating')\n",
    "    \n",
    "    def make_friends(self,friend):\n",
    "        self.friends.append(friend)\n",
    "    \n",
    "atul = Person('Atul Kumar','boy')\n",
    "jeevan = Person('JEEVAN DSOUZA','boy')"
   ]
  },
  {
   "cell_type": "code",
   "execution_count": 12,
   "metadata": {},
   "outputs": [
    {
     "name": "stdout",
     "output_type": "stream",
     "text": [
      "Family is blessed with baby boy\n"
     ]
    }
   ],
   "source": [
    "atul = Person('Atul Kumar','boy')"
   ]
  },
  {
   "cell_type": "code",
   "execution_count": 13,
   "metadata": {},
   "outputs": [
    {
     "data": {
      "text/plain": [
       "[]"
      ]
     },
     "execution_count": 13,
     "metadata": {},
     "output_type": "execute_result"
    }
   ],
   "source": [
    "atul.friends"
   ]
  },
  {
   "cell_type": "code",
   "execution_count": 14,
   "metadata": {},
   "outputs": [
    {
     "data": {
      "text/plain": [
       "'Atul Kumar'"
      ]
     },
     "execution_count": 14,
     "metadata": {},
     "output_type": "execute_result"
    }
   ],
   "source": [
    "atul.NAME"
   ]
  },
  {
   "cell_type": "code",
   "execution_count": null,
   "metadata": {},
   "outputs": [],
   "source": []
  }
 ],
 "metadata": {
  "kernelspec": {
   "display_name": "Python 3",
   "language": "python",
   "name": "python3"
  },
  "language_info": {
   "codemirror_mode": {
    "name": "ipython",
    "version": 3
   },
   "file_extension": ".py",
   "mimetype": "text/x-python",
   "name": "python",
   "nbconvert_exporter": "python",
   "pygments_lexer": "ipython3",
   "version": "3.8.3"
  }
 },
 "nbformat": 4,
 "nbformat_minor": 4
}
