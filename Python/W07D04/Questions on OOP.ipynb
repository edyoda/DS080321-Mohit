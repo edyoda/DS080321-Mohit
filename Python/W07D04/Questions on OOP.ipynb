{
 "cells": [
  {
   "cell_type": "code",
   "execution_count": null,
   "metadata": {},
   "outputs": [],
   "source": [
    "Q1) Create a class Animal, and Implement following things.\n",
    "animal_obj = Animal()\n",
    "if I call animal_obj.eat() => obj_name is eating.\n",
    "animal_obj.walk() => it should print walking with obj_no_of_legs\n",
    "animal_obj.getName() => return me the name\n",
    "animal_obj.setName() => set the name of the animal\n",
    "setters and getters for no_of_legs."
   ]
  },
  {
   "cell_type": "code",
   "execution_count": null,
   "metadata": {},
   "outputs": [],
   "source": [
    "Q2) Create a Class named Vehicle which will do the following things\n",
    "break() => it should decrease the speed of vehicle to 0\n",
    "slow_down() => it should slow the car speed by 10 units.\n",
    "accelerate() => it should increase the speed by 10 units.\n",
    "ignite() => it should start the car with speed 0\n",
    "gear_up() => it should increase the gear by 1. but toatl no of gears\n",
    "are only 5\n",
    "gear_down() => it should decrease the gear by 1. but total no of gears\n",
    "are more than 1."
   ]
  }
 ],
 "metadata": {
  "kernelspec": {
   "display_name": "Python 3",
   "language": "python",
   "name": "python3"
  },
  "language_info": {
   "codemirror_mode": {
    "name": "ipython",
    "version": 3
   },
   "file_extension": ".py",
   "mimetype": "text/x-python",
   "name": "python",
   "nbconvert_exporter": "python",
   "pygments_lexer": "ipython3",
   "version": "3.8.3"
  }
 },
 "nbformat": 4,
 "nbformat_minor": 4
}
