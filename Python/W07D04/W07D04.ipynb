{
 "cells": [
  {
   "cell_type": "code",
   "execution_count": null,
   "metadata": {},
   "outputs": [],
   "source": [
    "## Create a Student Record:\n",
    "\n",
    "Student:\n",
    "    name # obj attr\n",
    "    roll_no # obj attr\n",
    "    marks = {'history':0,'mechanics':0,'chemistry':0} # obj attr\n",
    "    \n",
    "    student_obj.add_marks({'history':50,'mechanics':50,'chemistry':50}) # obj method\n",
    "    \n",
    "    find_topper(): # class method\n",
    "        \n",
    "    find_failed(): # class method\n",
    "        \n",
    "    percentage() # obj method"
   ]
  },
  {
   "cell_type": "code",
   "execution_count": 16,
   "metadata": {},
   "outputs": [],
   "source": [
    "class Student:\n",
    "    student_list = [] # class attribute\n",
    "    total_marks = 300 # class attribute\n",
    "    fail_percentage = 33 # class attribute\n",
    "    \n",
    "    def __init__(self,name,roll_no): # dunder methods(double underscore in the prefix and double underscore in the suffix)\n",
    "        self.name = name # self.name's name is an object attribute\n",
    "        self.roll_no = roll_no # roll_no is an object attribute\n",
    "        self.marks = {'history':0,'mechanics':0,'chemistry':0} # marks is an object attribute\n",
    "        Student.student_list.append(self) # student_list is an class attribute\n",
    "        \n",
    "    def add_marks(self,marks): # add_marks is an object method\n",
    "        self.marks = marks # marks is an object attribute\n",
    "        self.percentage = Student.percentage_formula(sum(marks.values()),Student.total_marks,5)# percentage is an object attribute\n",
    "        if self.percentage < Student.fail_percentage: # fail_percentage is a class attribute\n",
    "            self.fail = True # fail is an object attribute\n",
    "        else:\n",
    "            self.fail = False # fail is an object attribute\n",
    "    \n",
    "    @classmethod\n",
    "    def find_topper(cls): # find_topper is a classmethod\n",
    "        highest_percent = float('-inf') # highest_percent is a local variable\n",
    "        current_topper = cls.student_list[0] # current_topper is a local variable , student_list is an class attribute\n",
    "        for obj in cls.student_list: # obj is a local variable but contain reference to various object one by one in loop\n",
    "            if obj.percentage > highest_percent:\n",
    "                highest_percent = obj.percentage\n",
    "                current_topper = obj\n",
    "        return current_topper\n",
    "    \n",
    "    @classmethod\n",
    "    def find_failure(cls):\n",
    "        l=[]\n",
    "        for obj in cls.student_list:\n",
    "            if obj.fail == True:\n",
    "                l.append(obj)\n",
    "        return l\n",
    "    \n",
    "    @staticmethod\n",
    "    def percentage_formula(obt_marks,total_marks,offer):\n",
    "        return (obt_marks/total_marks)*100 + offer"
   ]
  },
  {
   "cell_type": "code",
   "execution_count": 17,
   "metadata": {},
   "outputs": [
    {
     "name": "stdout",
     "output_type": "stream",
     "text": [
      "Vishal Gupta\n",
      "Atul Kumar\n"
     ]
    }
   ],
   "source": [
    "himanshi = Student('Himanshi Mishra',3)\n",
    "vishal = Student('Vishal Gupta',4)\n",
    "atul = Student('Atul Kumar',1)\n",
    "himanshi.add_marks( {'history':80,'mechanics':80,'chemistry':70})\n",
    "vishal.add_marks({'history':100,'mechanics':90,'chemistry':99})\n",
    "atul.add_marks({'history':10,'mechanics':23,'chemistry':19})\n",
    "print(atul.find_topper().name)\n",
    "print(vishal.find_failure()[0].name)"
   ]
  },
  {
   "cell_type": "code",
   "execution_count": 18,
   "metadata": {},
   "outputs": [
    {
     "name": "stdout",
     "output_type": "stream",
     "text": [
      "Atul Kumar\n"
     ]
    }
   ],
   "source": [
    "print(vishal.find_failure()[0].name)"
   ]
  },
  {
   "cell_type": "code",
   "execution_count": 21,
   "metadata": {},
   "outputs": [
    {
     "name": "stdout",
     "output_type": "stream",
     "text": [
      "Vishal Gupta\n"
     ]
    }
   ],
   "source": [
    "print(atul.find_topper().name)"
   ]
  },
  {
   "cell_type": "markdown",
   "metadata": {},
   "source": [
    "## static methods"
   ]
  },
  {
   "cell_type": "code",
   "execution_count": null,
   "metadata": {},
   "outputs": [],
   "source": [
    "->Static methods are used by all the objects but does not need any class reference.\n",
    "->It is generally used to write code which is static in natrure and does not behave dynamically."
   ]
  },
  {
   "cell_type": "code",
   "execution_count": null,
   "metadata": {},
   "outputs": [],
   "source": [
    "Q1) Create a class Animal, and Implement following things.\n",
    "animal_obj = Animal()\n",
    "if I call animal_obj.eat() => obj_name is eating.\n",
    "animal_obj.walk() => it should print walking with obj_no_of_legs\n",
    "animal_obj.getName() => return me the name\n",
    "animal_obj.setName() => set the name of the animal\n",
    "setters and getters for no_of_legs.\n",
    "\n",
    "10 mins"
   ]
  },
  {
   "cell_type": "code",
   "execution_count": 22,
   "metadata": {},
   "outputs": [],
   "source": [
    "class Animal:\n",
    "    def eat(self):\n",
    "        print(self.name,\" is eating\")\n",
    "    def walk(self):\n",
    "        print('Walking with ',self.no_of_legs)\n",
    "    def getName(self):\n",
    "        return self.name\n",
    "    def setName(self,name):\n",
    "        self.name = name\n",
    "    def getNoofLegs(self):\n",
    "        return self.no_of_legs\n",
    "    def setNoofLegs(self,no_of_legs):\n",
    "        self.no_of_legs = no_of_legs"
   ]
  },
  {
   "cell_type": "code",
   "execution_count": 23,
   "metadata": {},
   "outputs": [],
   "source": [
    "animal_obj = Animal()"
   ]
  },
  {
   "cell_type": "code",
   "execution_count": 24,
   "metadata": {},
   "outputs": [],
   "source": [
    "animal_obj.setName('Yuki')"
   ]
  },
  {
   "cell_type": "code",
   "execution_count": 25,
   "metadata": {},
   "outputs": [],
   "source": [
    "animal_obj.setNoofLegs('4')"
   ]
  },
  {
   "cell_type": "code",
   "execution_count": 26,
   "metadata": {},
   "outputs": [
    {
     "name": "stdout",
     "output_type": "stream",
     "text": [
      "Yuki  is eating\n"
     ]
    }
   ],
   "source": [
    "animal_obj.eat()"
   ]
  },
  {
   "cell_type": "code",
   "execution_count": 27,
   "metadata": {},
   "outputs": [
    {
     "name": "stdout",
     "output_type": "stream",
     "text": [
      "Walking with  4\n"
     ]
    }
   ],
   "source": [
    "animal_obj.walk()"
   ]
  },
  {
   "cell_type": "code",
   "execution_count": null,
   "metadata": {},
   "outputs": [],
   "source": [
    "Q2) Create a Class named Vehicle which will do the following things\n",
    "break() => it should decrease the speed of vehicle to 0\n",
    "slow_down() => it should slow the car speed by 10 units.\n",
    "accelerate() => it should increase the speed by 10 units.\n",
    "ignite() => it should start the car with speed 0\n",
    "gear_up() => it should increase the gear by 1. but toatl no of gears\n",
    "are only 5\n",
    "gear_down() => it should decrease the gear by 1. but total no of gears\n",
    "are more than 1.\n",
    "\n",
    "10 mins"
   ]
  },
  {
   "cell_type": "code",
   "execution_count": 30,
   "metadata": {},
   "outputs": [],
   "source": [
    "class Vehicle:\n",
    "    gear = 1\n",
    "    def getspeed(self):\n",
    "        return self.speed\n",
    "    def setspeed(self, speed):\n",
    "        self.speed=speed\n",
    "    def breakv(self):\n",
    "        self.speed = 0\n",
    "        print(self.speed)\n",
    "    def slow_down(self):\n",
    "        self.speed = self.speed - 10\n",
    "        print(self.speed)\n",
    "    def accelerate(self):\n",
    "        self.speed = self.speed + 10\n",
    "        print(self.speed)\n",
    "    def ignite(self):\n",
    "        self.speed = self.speed - self.speed\n",
    "        print(self.speed)\n",
    "    def gear_up(self):\n",
    "        if Vehicle.gear<=5:\n",
    "            Vehicle.gear = Vehicle.gear + 1\n",
    "        print(Vehicle.gear)\n",
    "    def gear_down(self):\n",
    "        if Vehicle.gear>1:\n",
    "            Vehicle.gear = Vehicle.gear - 1\n",
    "        print(Vehicle.gear)"
   ]
  },
  {
   "cell_type": "code",
   "execution_count": 31,
   "metadata": {},
   "outputs": [],
   "source": [
    "mohitsCar = Vehicle()"
   ]
  },
  {
   "cell_type": "code",
   "execution_count": 32,
   "metadata": {},
   "outputs": [],
   "source": [
    "kanishkaCar = Vehicle()"
   ]
  },
  {
   "cell_type": "code",
   "execution_count": 33,
   "metadata": {},
   "outputs": [
    {
     "name": "stdout",
     "output_type": "stream",
     "text": [
      "2\n"
     ]
    }
   ],
   "source": [
    "mohitsCar.gear_up()"
   ]
  },
  {
   "cell_type": "code",
   "execution_count": 39,
   "metadata": {},
   "outputs": [
    {
     "name": "stdout",
     "output_type": "stream",
     "text": [
      "6\n"
     ]
    }
   ],
   "source": [
    "kanishkaCar.gear_up()"
   ]
  },
  {
   "cell_type": "code",
   "execution_count": 66,
   "metadata": {},
   "outputs": [
    {
     "name": "stdout",
     "output_type": "stream",
     "text": [
      "10\n"
     ]
    }
   ],
   "source": [
    "class Vehicle:\n",
    "\n",
    "\tdef __init__(self):\n",
    "\t\tself.gear=0\n",
    "\n",
    "\tdef ignite(self):\n",
    "\t\tself.speed=0\n",
    "\n",
    "\tdef gearup(self):\n",
    "\t\tif self.gear<5:\n",
    "\t\t\tself.gear+=1\n",
    "\t\telse:\n",
    "\t\t\tprint('car already in top gear')\n",
    "\n",
    "\tdef accelerate(self):\n",
    "\t\tif self.gear==0:\n",
    "\t\t\tprint('car not in gear')\n",
    "\t\telse:\n",
    "\t\t\tself.speed+=10\n",
    "\n",
    "\tdef slowdown(self):\n",
    "\t\tself.speed-=10\n",
    "\n",
    "\tdef geardown(self):\n",
    "\t\tif self.gear>0:\n",
    "\t\t\tself.gear-=1\n",
    "\n",
    "\tdef brake(self):\n",
    "\t\tself.speed=0\n",
    "\n",
    "Atul_royce=Vehicle()\n",
    "Atul_royce.ignite()\n",
    "Atul_royce.gearup()\n",
    "Atul_royce.accelerate()\n",
    "print(Atul_royce.speed)"
   ]
  },
  {
   "cell_type": "code",
   "execution_count": null,
   "metadata": {},
   "outputs": [],
   "source": [
    "## DUNDER(double underscore at prefix and suffix) METHODS OR MAGIC METHODS\n",
    "\n",
    "HOW ARE DUNDER METHODS CALLED:\n",
    "    -> __init__ => when object is created\n",
    "    -> __str__ => when we use str(obj). Also print(obj) inernally call str(obj)\n",
    "    -> __add__ => when we use obj1 + obj2 , __add__ gets called via the obj1 and obj2 is passed as second argument to self."
   ]
  },
  {
   "cell_type": "code",
   "execution_count": 84,
   "metadata": {},
   "outputs": [],
   "source": [
    "# dir(list)"
   ]
  },
  {
   "cell_type": "code",
   "execution_count": null,
   "metadata": {},
   "outputs": [],
   "source": [
    "Class for Complex No"
   ]
  },
  {
   "cell_type": "code",
   "execution_count": 164,
   "metadata": {},
   "outputs": [],
   "source": [
    "class Complex:\n",
    "    def __init__(self,real,imag):\n",
    "        self.real = real\n",
    "        self.imag = imag\n",
    "    \n",
    "    def __add__(self,other):\n",
    "        return Complex(self.real+other.real,self.imag+other.imag)\n",
    "    \n",
    "    def __sub__(self,other):\n",
    "        return Complex(self.real-other.real,self.imag-other.imag)\n",
    "    \n",
    "    def __neg__(self):\n",
    "        return Complex(-self.real,-self.imag)\n",
    "    \n",
    "    def __str__(self):\n",
    "        return str(self.real)+' + i'+str(self.imag)\n",
    "    \n",
    "    def __repr__(self):\n",
    "        return 'Complex ' + str(self)"
   ]
  },
  {
   "cell_type": "code",
   "execution_count": 170,
   "metadata": {},
   "outputs": [
    {
     "data": {
      "text/plain": [
       "\"['mango', 'kiwi']\""
      ]
     },
     "execution_count": 170,
     "metadata": {},
     "output_type": "execute_result"
    }
   ],
   "source": [
    "list1 = ['mango','kiwi']\n",
    "\n",
    "repr(list1)"
   ]
  },
  {
   "cell_type": "code",
   "execution_count": 165,
   "metadata": {},
   "outputs": [],
   "source": [
    "c1 = Complex(3,4)"
   ]
  },
  {
   "cell_type": "code",
   "execution_count": 166,
   "metadata": {},
   "outputs": [],
   "source": [
    "c2 = Complex(1,2)"
   ]
  },
  {
   "cell_type": "code",
   "execution_count": 169,
   "metadata": {},
   "outputs": [
    {
     "data": {
      "text/plain": [
       "'Complex 3 + i4'"
      ]
     },
     "execution_count": 169,
     "metadata": {},
     "output_type": "execute_result"
    }
   ],
   "source": [
    "repr(c1)"
   ]
  },
  {
   "cell_type": "code",
   "execution_count": 167,
   "metadata": {},
   "outputs": [],
   "source": [
    "c5 = -c1"
   ]
  },
  {
   "cell_type": "code",
   "execution_count": 162,
   "metadata": {},
   "outputs": [
    {
     "name": "stdout",
     "output_type": "stream",
     "text": [
      "-3 + i-4\n"
     ]
    }
   ],
   "source": [
    "print(c5)"
   ]
  },
  {
   "cell_type": "code",
   "execution_count": 163,
   "metadata": {},
   "outputs": [
    {
     "data": {
      "text/plain": [
       "'3 + i4'"
      ]
     },
     "execution_count": 163,
     "metadata": {},
     "output_type": "execute_result"
    }
   ],
   "source": [
    "str(c1)"
   ]
  },
  {
   "cell_type": "code",
   "execution_count": 156,
   "metadata": {},
   "outputs": [
    {
     "name": "stdout",
     "output_type": "stream",
     "text": [
      "1 + i2\n"
     ]
    }
   ],
   "source": [
    "print(c2)"
   ]
  },
  {
   "cell_type": "code",
   "execution_count": 157,
   "metadata": {},
   "outputs": [
    {
     "name": "stdout",
     "output_type": "stream",
     "text": [
      "3 + i4\n"
     ]
    }
   ],
   "source": [
    "print(c1)"
   ]
  },
  {
   "cell_type": "code",
   "execution_count": 158,
   "metadata": {},
   "outputs": [],
   "source": [
    "c3 = c1 + c2"
   ]
  },
  {
   "cell_type": "code",
   "execution_count": 159,
   "metadata": {},
   "outputs": [],
   "source": [
    "c4 = c1 - c2"
   ]
  },
  {
   "cell_type": "code",
   "execution_count": 160,
   "metadata": {},
   "outputs": [
    {
     "name": "stdout",
     "output_type": "stream",
     "text": [
      "2 + i2\n"
     ]
    }
   ],
   "source": [
    "print(c4)"
   ]
  },
  {
   "cell_type": "code",
   "execution_count": 146,
   "metadata": {},
   "outputs": [
    {
     "name": "stdout",
     "output_type": "stream",
     "text": [
      "4 + i6\n"
     ]
    }
   ],
   "source": [
    "print(c3)"
   ]
  },
  {
   "cell_type": "code",
   "execution_count": 124,
   "metadata": {},
   "outputs": [
    {
     "data": {
      "text/plain": [
       "4"
      ]
     },
     "execution_count": 124,
     "metadata": {},
     "output_type": "execute_result"
    }
   ],
   "source": [
    "c3.real"
   ]
  },
  {
   "cell_type": "code",
   "execution_count": 125,
   "metadata": {},
   "outputs": [
    {
     "data": {
      "text/plain": [
       "6"
      ]
     },
     "execution_count": 125,
     "metadata": {},
     "output_type": "execute_result"
    }
   ],
   "source": [
    "c3.imag"
   ]
  },
  {
   "cell_type": "code",
   "execution_count": 108,
   "metadata": {},
   "outputs": [],
   "source": [
    "class x:\n",
    "    g = 'mango'"
   ]
  },
  {
   "cell_type": "code",
   "execution_count": 109,
   "metadata": {},
   "outputs": [],
   "source": [
    "obj1 = x()"
   ]
  },
  {
   "cell_type": "code",
   "execution_count": 110,
   "metadata": {},
   "outputs": [],
   "source": [
    "obj2 = x()"
   ]
  },
  {
   "cell_type": "code",
   "execution_count": 113,
   "metadata": {},
   "outputs": [
    {
     "data": {
      "text/plain": [
       "6"
      ]
     },
     "execution_count": 113,
     "metadata": {},
     "output_type": "execute_result"
    }
   ],
   "source": [
    "3 + 3"
   ]
  },
  {
   "cell_type": "code",
   "execution_count": 116,
   "metadata": {},
   "outputs": [],
   "source": [
    "list1 = ['mango','banana']\n",
    "list2 = ['kiwi','peach']\n",
    "list3 = list1+list2"
   ]
  },
  {
   "cell_type": "code",
   "execution_count": 117,
   "metadata": {},
   "outputs": [
    {
     "name": "stdout",
     "output_type": "stream",
     "text": [
      "['mango', 'banana', 'kiwi', 'peach']\n"
     ]
    }
   ],
   "source": [
    "print(list3)"
   ]
  },
  {
   "cell_type": "code",
   "execution_count": null,
   "metadata": {},
   "outputs": [],
   "source": [
    "## HOmework:\n",
    "Create a Class Paytm"
   ]
  },
  {
   "cell_type": "code",
   "execution_count": null,
   "metadata": {},
   "outputs": [],
   "source": [
    "dunder methods are used for :\n",
    "    - Operator Overloading\n",
    "    - for making the code syntax generic across all the object"
   ]
  },
  {
   "cell_type": "code",
   "execution_count": null,
   "metadata": {},
   "outputs": [],
   "source": [
    "overloading + means\n",
    "+ -> you want to use this operator for your custom user defined class."
   ]
  },
  {
   "cell_type": "code",
   "execution_count": 176,
   "metadata": {},
   "outputs": [
    {
     "name": "stdout",
     "output_type": "stream",
     "text": [
      "('python', 'java', 'c++', 'pandas')\n"
     ]
    }
   ],
   "source": [
    "tuple1 = ('python','java')\n",
    "tuple2 = ('c++','pandas')\n",
    "\n",
    "print(tuple1+tuple2)"
   ]
  },
  {
   "cell_type": "code",
   "execution_count": 177,
   "metadata": {},
   "outputs": [
    {
     "name": "stdout",
     "output_type": "stream",
     "text": [
      "36\n"
     ]
    }
   ],
   "source": [
    "x = 12\n",
    "y = 24\n",
    "print(x+y)"
   ]
  },
  {
   "cell_type": "code",
   "execution_count": 182,
   "metadata": {},
   "outputs": [],
   "source": [
    "class x:\n",
    "    g = 'mango'\n",
    "    def __add__(self,other):\n",
    "        return x()"
   ]
  },
  {
   "cell_type": "code",
   "execution_count": 183,
   "metadata": {},
   "outputs": [],
   "source": [
    "obj1 = x()"
   ]
  },
  {
   "cell_type": "code",
   "execution_count": 184,
   "metadata": {},
   "outputs": [],
   "source": [
    "obj2 = x()"
   ]
  },
  {
   "cell_type": "code",
   "execution_count": 185,
   "metadata": {},
   "outputs": [
    {
     "data": {
      "text/plain": [
       "<__main__.x at 0x7a5a30>"
      ]
     },
     "execution_count": 185,
     "metadata": {},
     "output_type": "execute_result"
    }
   ],
   "source": [
    "obj1 + obj2"
   ]
  },
  {
   "cell_type": "code",
   "execution_count": null,
   "metadata": {},
   "outputs": [],
   "source": []
  }
 ],
 "metadata": {
  "kernelspec": {
   "display_name": "Python 3",
   "language": "python",
   "name": "python3"
  },
  "language_info": {
   "codemirror_mode": {
    "name": "ipython",
    "version": 3
   },
   "file_extension": ".py",
   "mimetype": "text/x-python",
   "name": "python",
   "nbconvert_exporter": "python",
   "pygments_lexer": "ipython3",
   "version": "3.8.3"
  }
 },
 "nbformat": 4,
 "nbformat_minor": 4
}
